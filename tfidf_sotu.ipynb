{
 "nbformat": 4,
 "nbformat_minor": 2,
 "metadata": {
  "language_info": {
   "name": "python",
   "codemirror_mode": {
    "name": "ipython",
    "version": 3
   },
   "version": "3.7.5"
  },
  "orig_nbformat": 2,
  "file_extension": ".py",
  "mimetype": "text/x-python",
  "name": "python",
  "npconvert_exporter": "python",
  "pygments_lexer": "ipython3",
  "version": 3
 },
 "cells": [
  {
   "cell_type": "code",
   "execution_count": 28,
   "metadata": {},
   "outputs": [],
   "source": [
    "import json\n",
    "import nltk\n",
    "from nltk.stem.porter import PorterStemmer\n",
    "from nltk.corpus import stopwords\n",
    "\n",
    "import re\n",
    "import string"
   ]
  },
  {
   "cell_type": "code",
   "execution_count": 3,
   "metadata": {},
   "outputs": [],
   "source": []
  },
  {
   "cell_type": "code",
   "execution_count": 43,
   "metadata": {},
   "outputs": [],
   "source": [
    "path = '/Users/noahedelstein/Desktop/Parsons/design with ml/ml_final/ml_final_python/state-of-the-union/transcripts.json'\n",
    "\n",
    "with open(path) as data_file:\n",
    "  data = data_file.read()\n",
    "  # print(data) \n",
    "  data_content = json.loads(data)\n",
    "  president = [line['president'] for line in data_content]\n",
    "  dates = [line['date'] for line in data_content]\n",
    "#   print(date)\n",
    "#   transcripts = [line['transcript'] for line in data_content]\n",
    "#   print(transcripts[0])"
   ]
  },
  {
   "cell_type": "code",
   "execution_count": 30,
   "metadata": {},
   "outputs": [],
   "source": [
    "stop_words = set(stopwords.words('english'))\n"
   ]
  },
  {
   "cell_type": "code",
   "execution_count": 31,
   "metadata": {},
   "outputs": [],
   "source": [
    "def tokenize(text):\n",
    "    # first change all to lower case\n",
    "    text = text.lower()\n",
    "    # remove the http urls with a regular expression\n",
    "    remove_urls = re.sub(r\"http\\S+\", \"\", text)\n",
    "    # remove punctuation - small note - periods are not important but other punctuation\n",
    "    # could be useful to leave in!\n",
    "    remove_punctuation = remove_urls.translate(str.maketrans('','',string.punctuation))\n",
    "    # tokenize our sentences into words\n",
    "    tokens = nltk.word_tokenize(remove_punctuation)\n",
    "    remove_stops = [w for w in tokens if not w in stop_words]\n",
    "    stems = [PorterStemmer().stem(t) for t in remove_stops]\n",
    "    return stems"
   ]
  },
  {
   "cell_type": "code",
   "execution_count": 32,
   "metadata": {},
   "outputs": [
    {
     "name": "stdout",
     "output_type": "stream",
     "text": "calculating tf-idf\n"
    }
   ],
   "source": [
    "from sklearn.feature_extraction.text import TfidfVectorizer\n",
    "\n",
    "# calculating the tf-idf may take a while\n",
    "print(\"calculating tf-idf\")\n",
    "tfidf = TfidfVectorizer(tokenizer=tokenize)\n",
    "tfs = tfidf.fit_transform(transcripts)"
   ]
  },
  {
   "cell_type": "code",
   "execution_count": 57,
   "metadata": {},
   "outputs": [
    {
     "name": "stdout",
     "output_type": "stream",
     "text": "reducing tf-idf to 2 dim\ndone\n"
    }
   ],
   "source": [
    "from sklearn.decomposition import TruncatedSVD\n",
    "\n",
    "print(\"reducing tf-idf to 2 dim\")\n",
    "tfs_reduced = TruncatedSVD(n_components=2, random_state=0).fit_transform(tfs)\n",
    "print(\"done\")"
   ]
  },
  {
   "cell_type": "code",
   "execution_count": 58,
   "metadata": {},
   "outputs": [
    {
     "name": "stdout",
     "output_type": "stream",
     "text": "[[ 4.04167602e-01  3.58701260e-01]\n [ 4.60119675e-01  3.72034618e-01]\n [ 4.09314427e-01  4.36664316e-01]\n [ 4.42697662e-01  4.74247617e-01]\n [ 4.55825587e-01  5.01986131e-01]\n [ 4.78979969e-01  4.92122906e-01]\n [ 4.45095102e-01  4.64507266e-01]\n [ 4.60952834e-01  4.83752442e-01]\n [ 4.87272296e-01  4.87636515e-01]\n [ 4.85579141e-01  4.97330065e-01]\n [ 4.62702799e-01  4.25640812e-01]\n [ 4.43315228e-01  3.69291334e-01]\n [ 5.07086453e-01  4.51361366e-01]\n [ 4.81421158e-01  3.92114963e-01]\n [ 4.59603047e-01  4.33163198e-01]\n [ 4.09091149e-01  3.46554126e-01]\n [ 4.07127933e-01  3.68710018e-01]\n [ 4.81652279e-01  4.65850141e-01]\n [ 4.89700258e-01  5.27800543e-01]\n [ 5.04340523e-01  4.97579414e-01]\n [ 5.18171131e-01  5.23660146e-01]\n [ 4.95184220e-01  5.16845948e-01]\n [ 4.79576580e-01  4.83032826e-01]\n [ 5.35319223e-01  4.84478696e-01]\n [ 5.04148965e-01  4.95593265e-01]\n [ 5.44995803e-01  5.21197805e-01]\n [ 4.81227717e-01  4.70017209e-01]\n [ 4.92399189e-01  4.36807798e-01]\n [ 4.53870558e-01  4.57490027e-01]\n [ 4.92228220e-01  5.09386499e-01]\n [ 4.87039071e-01  4.25817372e-01]\n [ 4.59842616e-01  3.89448310e-01]\n [ 4.40281380e-01  4.32471611e-01]\n [ 5.13271114e-01  4.89810187e-01]\n [ 5.07830117e-01  4.59795178e-01]\n [ 5.41928677e-01  5.00609369e-01]\n [ 5.24042706e-01  4.49566950e-01]\n [ 4.48062398e-01  3.96331764e-01]\n [ 5.66925470e-01  3.30917187e-01]\n [ 4.45962172e-01  3.40079643e-01]\n [ 6.08176764e-01  3.60864119e-01]\n [ 5.64204847e-01  3.60898526e-01]\n [ 4.96356209e-01  4.11383248e-01]\n [ 5.72214469e-01  4.53382803e-01]\n [ 5.47354532e-01  3.37436525e-01]\n [ 5.86476725e-01  3.28432588e-01]\n [ 5.69573777e-01  4.33044880e-01]\n [ 4.83260349e-01  3.61947703e-01]\n [ 5.86739656e-01  4.21150838e-01]\n [ 6.43640632e-01  3.75368237e-01]\n [ 3.44617387e-01  9.79702264e-02]\n [ 4.50866269e-01  2.31244791e-01]\n [ 5.35434495e-01  3.53553551e-01]\n [ 4.84993251e-01  3.65533186e-01]\n [ 4.21236710e-01  2.16112904e-01]\n [ 4.64616530e-01  2.92892614e-01]\n [ 5.67216978e-01  4.12613303e-01]\n [ 6.36278904e-01  4.27598462e-01]\n [ 5.51813170e-01  3.23815387e-01]\n [ 5.53186936e-01  4.06345408e-01]\n [ 5.33141914e-01  3.03375492e-01]\n [ 5.45356137e-01  3.71939623e-01]\n [ 5.96290805e-01  3.92478793e-01]\n [ 5.14650050e-01  3.46029247e-01]\n [ 5.43396810e-01  3.98769639e-01]\n [ 4.82533118e-01  3.74444961e-01]\n [ 5.19952669e-01  3.78617950e-01]\n [ 5.61949247e-01  3.48182633e-01]\n [ 5.60173445e-01  3.22036129e-01]\n [ 5.33441990e-01  3.18899872e-01]\n [ 6.14547558e-01  2.85442259e-01]\n [ 6.28801686e-01  3.31291630e-01]\n [ 5.29150432e-01  3.17682967e-01]\n [ 6.12190142e-01  2.51492297e-01]\n [ 4.04921316e-01  2.37185800e-01]\n [ 6.78359209e-01  3.27962567e-01]\n [ 6.57758907e-01  3.08995931e-01]\n [ 6.49300696e-01  2.65710368e-01]\n [ 6.60192495e-01  2.30753300e-01]\n [ 5.12226277e-01  2.70631847e-01]\n [ 5.60548340e-01  3.46905379e-01]\n [ 4.83878947e-01  2.95535074e-01]\n [ 6.33727283e-01  3.17647320e-01]\n [ 6.01328505e-01  2.47821024e-01]\n [ 6.22377794e-01  3.12543492e-01]\n [ 6.27420659e-01  1.90935639e-01]\n [ 5.81857173e-01  1.84285697e-01]\n [ 4.64522190e-01  1.97813891e-01]\n [ 5.23856732e-01  2.06471362e-01]\n [ 4.79082057e-01  1.83190592e-01]\n [ 3.95608543e-01  1.97841505e-01]\n [ 3.77179187e-01  1.82650796e-01]\n [ 5.08654051e-01  2.21796144e-01]\n [ 5.15433369e-01  2.25442054e-01]\n [ 5.21994985e-01  2.27743499e-01]\n [ 5.61185698e-01  1.64135476e-01]\n [ 5.05584796e-01  1.51735718e-01]\n [ 4.99165986e-01  1.47496753e-01]\n [ 5.40012039e-01  1.75347698e-01]\n [ 4.97594084e-01  1.14675046e-01]\n [ 5.38139500e-01  7.50714923e-02]\n [ 5.80542344e-01  3.39119384e-02]\n [ 5.23733307e-01  1.15748318e-02]\n [ 7.21711828e-01 -4.35812220e-02]\n [ 7.14779984e-01  5.86567052e-03]\n [ 7.11146176e-01 -2.10374791e-02]\n [ 7.31849946e-01 -7.70516873e-03]\n [ 7.14281394e-01 -4.17945498e-02]\n [ 6.93747059e-01  1.99274605e-02]\n [ 6.87267902e-01  1.43295221e-02]\n [ 5.35769260e-01  7.03979483e-02]\n [ 5.83679306e-01  3.76624351e-02]\n [ 5.47440898e-01 -2.24483646e-02]\n [ 5.85598288e-01  6.69407149e-02]\n [ 5.42576028e-01  2.82557360e-02]\n [ 4.55323932e-01  9.20637756e-02]\n [ 4.77611132e-01 -1.02131327e-01]\n [ 5.95365371e-01  4.41423042e-02]\n [ 5.77764479e-01  5.64920443e-02]\n [ 5.52654523e-01 -1.65318107e-02]\n [ 8.11382463e-01 -1.36548329e-01]\n [ 7.03027435e-01 -1.46434762e-01]\n [ 7.58571411e-01 -1.73146471e-01]\n [ 7.36546159e-01 -1.90206848e-01]\n [ 6.79572526e-01 -2.02850860e-02]\n [ 7.62759783e-01 -5.83794241e-02]\n [ 7.11531737e-01 -2.14665278e-02]\n [ 7.57188280e-01 -5.73856467e-02]\n [ 7.42787689e-01 -5.03878377e-02]\n [ 6.82113633e-01 -1.55734055e-01]\n [ 6.63997227e-01 -3.29195371e-02]\n [ 7.18340945e-01  3.27838321e-04]\n [ 6.79913837e-01 -1.78695341e-01]\n [ 7.58218040e-01 -2.09169355e-01]\n [ 6.79926144e-01 -2.32232022e-01]\n [ 6.99633460e-01 -2.09011510e-01]\n [ 7.06067466e-01 -1.73808785e-01]\n [ 5.54659836e-01 -2.02400205e-01]\n [ 6.88457336e-01 -2.04402108e-01]\n [ 6.63721820e-01 -1.85015630e-01]\n [ 5.93645688e-01 -1.38012738e-01]\n [ 7.26456068e-01 -2.12596805e-01]\n [ 6.98893964e-01 -1.94104392e-01]\n [ 7.49189309e-01 -2.24178771e-01]\n [ 7.05746229e-01 -1.89791588e-01]\n [ 4.87461716e-01 -1.17687731e-01]\n [ 7.64606260e-01 -2.26222297e-01]\n [ 7.70082444e-01 -2.69768531e-01]\n [ 6.89928228e-01 -2.48145396e-01]\n [ 6.87317977e-01 -2.65118472e-01]\n [ 6.95742383e-01 -2.48262594e-01]\n [ 7.38316194e-01 -2.45830184e-01]\n [ 7.59365253e-01 -2.45093323e-01]\n [ 7.54129411e-01 -2.73141189e-01]\n [ 6.90091049e-01 -2.25093074e-01]\n [ 7.34570307e-01 -2.56924782e-01]\n [ 6.68669067e-01 -2.65327236e-01]\n [ 7.48197471e-01 -2.44815626e-01]\n [ 7.25605505e-01 -2.53174314e-01]\n [ 7.35335843e-01 -2.44001367e-01]\n [ 6.86214537e-01 -2.51999275e-01]\n [ 7.13886190e-01 -2.43127818e-01]\n [ 7.04420031e-01 -2.55818483e-01]\n [ 7.31572156e-01 -2.54485946e-01]\n [ 6.83774806e-01 -2.15283892e-01]\n [ 7.21232493e-01 -2.15072333e-01]\n [ 6.98474245e-01 -2.82179852e-01]\n [ 7.20297601e-01 -1.94263085e-01]\n [ 6.43746441e-01 -1.82778483e-01]\n [ 6.70347772e-01 -2.65289522e-01]\n [ 6.43034381e-01 -1.67214542e-01]\n [ 6.39871022e-01 -1.92705542e-01]\n [ 6.85098662e-01 -2.84396730e-01]\n [ 6.72900628e-01 -2.51226094e-01]\n [ 7.34736949e-01 -2.99075336e-01]\n [ 6.69646897e-01 -2.69485911e-01]\n [ 6.84906052e-01 -2.91148966e-01]\n [ 6.94725659e-01 -3.03816801e-01]\n [ 7.24946484e-01 -2.75636287e-01]\n [ 7.18126249e-01 -2.87569867e-01]\n [ 7.25740536e-01 -2.82673760e-01]\n [ 7.49175687e-01 -3.07799237e-01]\n [ 7.32841058e-01 -3.20735267e-01]\n [ 7.06147937e-01 -2.83354527e-01]\n [ 7.49166811e-01 -2.58353291e-01]\n [ 6.68151952e-01 -2.80681533e-01]\n [ 5.84403704e-01 -2.63749732e-01]\n [ 7.31043147e-01 -3.00095019e-01]\n [ 7.08133168e-01 -2.88047898e-01]\n [ 7.17182745e-01 -2.92559066e-01]\n [ 6.89554798e-01 -2.74536894e-01]\n [ 7.16506915e-01 -3.06415384e-01]\n [ 7.13386513e-01 -2.51990512e-01]\n [ 6.89046649e-01 -2.60603374e-01]\n [ 7.33324318e-01 -3.30534021e-01]\n [ 7.50153932e-01 -3.16399958e-01]\n [ 7.13508250e-01 -2.77225131e-01]\n [ 7.00659309e-01 -2.79454772e-01]\n [ 7.44463102e-01 -3.07329308e-01]\n [ 7.06841202e-01 -3.37450097e-01]\n [ 7.38971161e-01 -2.91689860e-01]\n [ 6.93461312e-01 -2.97575769e-01]\n [ 7.68803624e-01 -3.13220614e-01]\n [ 7.54751300e-01 -3.10407352e-01]\n [ 6.70837767e-01 -2.53011887e-01]\n [ 6.65927490e-01 -2.97488843e-01]\n [ 6.61686519e-01 -2.60887952e-01]\n [ 6.94906745e-01 -2.32106357e-01]\n [ 6.74059939e-01 -2.97562460e-01]\n [ 6.66638014e-01 -2.81973899e-01]\n [ 6.04812602e-01 -2.77284843e-01]\n [ 6.01980983e-01 -3.02100738e-01]\n [ 5.93792264e-01 -2.47998532e-01]\n [ 5.57077421e-01 -2.96900515e-01]\n [ 5.46254216e-01 -2.68693756e-01]\n [ 6.25416459e-01 -3.00793229e-01]\n [ 6.11869228e-01 -2.40808823e-01]\n [ 5.67684255e-01 -2.22032752e-01]\n [ 3.67290603e-01 -7.81212800e-02]\n [ 4.76631624e-01 -1.50779129e-01]\n [ 4.69398471e-01 -1.77197562e-01]\n [ 5.11604783e-01 -2.21473859e-01]\n [ 5.31455872e-01 -2.31187088e-01]\n [ 4.68227943e-01 -2.10843017e-01]\n [ 5.32465737e-01 -2.07277924e-01]\n [ 4.96416085e-01 -1.62886029e-01]\n [ 5.31425991e-01 -1.83651475e-01]\n [ 5.25470839e-01 -1.62740632e-01]\n [ 5.12333482e-01 -1.86604596e-01]\n [ 5.15974326e-01 -1.74176179e-01]\n [ 4.71306878e-01 -1.51661204e-01]\n [ 5.41364439e-01 -1.81584958e-01]\n [ 4.66906900e-01 -1.89369167e-01]\n [ 4.81631941e-01 -2.04245764e-01]\n [ 4.70688194e-01 -2.21205042e-01]\n [ 5.06994443e-01 -2.46387409e-01]\n [ 5.50592727e-01 -2.37754960e-01]\n [ 4.59364883e-01 -2.10465409e-01]\n [ 4.73384576e-01 -1.83080989e-01]\n [ 5.48583066e-01 -2.41880986e-01]\n [ 4.82538420e-01 -2.16162048e-01]\n [ 5.11430358e-01 -2.45648913e-01]\n [ 4.39595690e-01 -1.59730854e-01]\n [ 4.43191483e-01 -1.79319506e-01]]\n"
    }
   ],
   "source": [
    "print(tfs_reduced)"
   ]
  },
  {
   "cell_type": "code",
   "execution_count": 53,
   "metadata": {},
   "outputs": [],
   "source": [
    "from sklearn.preprocessing import StandardScaler\n",
    "\n",
    "ss = StandardScaler()\n",
    "scaled = ss.fit_transform(tfs_reduced)"
   ]
  },
  {
   "cell_type": "code",
   "execution_count": 54,
   "metadata": {},
   "outputs": [],
   "source": [
    "from sklearn.cluster import KMeans\n",
    "\n",
    "kmeans = KMeans(n_clusters=10)\n",
    "clusters = kmeans.fit_predict(scaled)"
   ]
  },
  {
   "cell_type": "code",
   "execution_count": 55,
   "metadata": {},
   "outputs": [],
   "source": [
    "from sklearn.neighbors import NearestNeighbors\n",
    "\n",
    "neighbors = NearestNeighbors(n_neighbors=5, metric='cosine').fit(scaled)\n",
    "_, closest = neighbors.kneighbors(kmeans.cluster_centers_)"
   ]
  },
  {
   "cell_type": "code",
   "execution_count": 56,
   "metadata": {},
   "outputs": [
    {
     "name": "stdout",
     "output_type": "stream",
     "text": "\n\nCluster number 0\n\n\n1877-12-03 Rutherford B. Hayes\n\n\n\n1869-12-06 Ulysses S. Grant\n\n\n\n1903-12-07 Theodore Roosevelt\n\n\n\n1888-12-03 Grover Cleveland\n\n\n\n1830-12-06 Andrew Jackson\n\n\n\n\n\nCluster number 1\n\n\n1978-01-19 Jimmy Carter\n\n\n\n1998-01-27 William J. Clinton\n\n\n\n1971-01-22 Richard Nixon\n\n\n\n1968-01-17 Lyndon B. Johnson\n\n\n\n1965-01-04 Lyndon B. Johnson\n\n\n\n\n\nCluster number 2\n\n\n1793-12-03 George Washington\n\n\n\n1796-12-07 George Washington\n\n\n\n1895-12-02 Grover Cleveland\n\n\n\n1818-11-16 James Monroe\n\n\n\n1819-12-07 James Monroe\n\n\n\n\n\nCluster number 3\n\n\n1927-12-06 Calvin Coolidge\n\n\n\n1906-12-03 Theodore Roosevelt\n\n\n\n1907-12-03 Theodore Roosevelt\n\n\n\n1905-12-05 Theodore Roosevelt\n\n\n\n1904-12-06 Theodore Roosevelt\n\n\n\n\n\nCluster number 4\n\n\n2014-01-28 Barack Obama\n\n\n\n2011-01-25 Barack Obama\n\n\n\n1988-01-25 Ronald Reagan\n\n\n\n2001-02-27 George W. Bush\n\n\n\n1992-01-28 George Bush\n\n\n\n\n\nCluster number 5\n\n\n1936-01-03 Franklin D. Roosevelt\n\n\n\n1945-01-06 Franklin D. Roosevelt\n\n\n\n1944-01-11 Franklin D. Roosevelt\n\n\n\n1956-01-05 Dwight D. Eisenhower\n\n\n\n1973-02-15 Richard Nixon\n\n\n\n\n\nCluster number 6\n\n\n1959-01-09 Dwight D. Eisenhower\n\n\n\n1950-01-04 Harry S. Truman\n\n\n\n1974-01-30 Richard Nixon\n\n\n\n1972-01-20 Richard Nixon\n\n\n\n1948-01-07 Harry S. Truman\n\n\n\n\n\nCluster number 7\n\n\n1936-01-03 Franklin D. Roosevelt\n\n\n\n1945-01-06 Franklin D. Roosevelt\n\n\n\n1956-01-05 Dwight D. Eisenhower\n\n\n\n1944-01-11 Franklin D. Roosevelt\n\n\n\n1973-02-15 Richard Nixon\n\n\n\n\n\nCluster number 8\n\n\n1813-12-07 James Madison\n\n\n\n1802-12-15 Thomas Jefferson\n\n\n\n1812-11-04 James Madison\n\n\n\n1887-12-06 Grover Cleveland\n\n\n\n1790-01-08 George Washington\n\n\n\n\n\nCluster number 9\n\n\n1883-12-04 Chester A. Arthur\n\n\n\n1893-12-04 Grover Cleveland\n\n\n\n1842-12-06 John Tyler\n\n\n\n1839-12-02 Martin van Buren\n\n\n\n1872-12-02 Ulysses S. Grant\n\n\n\n"
    }
   ],
   "source": [
    "for index, cluster_row in enumerate(closest):\n",
    "    print('\\n\\nCluster number ' + str(index) + '\\n\\n')\n",
    "    for col in cluster_row:\n",
    "        print(dates[col], president[col])\n",
    "        print('\\n\\n')"
   ]
  },
  {
   "cell_type": "code",
   "execution_count": null,
   "metadata": {},
   "outputs": [],
   "source": [
    "lookup = []\n",
    "\n",
    "with open(path) as data_file:\n",
    "    data = data_file.read()\n",
    "    data_content = json.loads(data)\n",
    "    transcripts = [line['transcript'] for line in data_content]\n",
    "    dates = [line['date'] for line in data_content]\n",
    "    presidents = [line['president'] for line in data_content]\n",
    "    for date, president, cluster_pos, transcript in zip(dates, presidents, tfs_reduced, transcripts):\n",
    "        lookup.append({\n",
    "            \"Date\": date,\n",
    "            \"President\": president,\n",
    "            \"Cluster_Pos\": cluster_pos.tolist(),\n",
    "            \"Speech\": transcript\n",
    "        })"
   ]
  }
 ]
}
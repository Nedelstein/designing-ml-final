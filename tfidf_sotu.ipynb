{
 "nbformat": 4,
 "nbformat_minor": 2,
 "metadata": {
  "language_info": {
   "name": "python",
   "codemirror_mode": {
    "name": "ipython",
    "version": 3
   },
   "version": "3.7.5"
  },
  "orig_nbformat": 2,
  "file_extension": ".py",
  "mimetype": "text/x-python",
  "name": "python",
  "npconvert_exporter": "python",
  "pygments_lexer": "ipython3",
  "version": 3
 },
 "cells": [
  {
   "cell_type": "code",
   "execution_count": 2,
   "metadata": {},
   "outputs": [],
   "source": [
    "import sumy\n",
    "from sumy.parsers.plaintext import PlaintextParser\n",
    "from sumy.nlp.tokenizers import Tokenizer\n",
    "from sumy.summarizers.lex_rank import LexRankSummarizer\n",
    "from sumy.utils import get_stop_words\n"
   ]
  },
  {
   "cell_type": "code",
   "execution_count": 3,
   "metadata": {},
   "outputs": [],
   "source": [
    "import json\n",
    "import nltk\n",
    "from nltk.stem.porter import PorterStemmer\n",
    "from nltk.corpus import stopwords\n",
    "\n",
    "import re\n",
    "import string"
   ]
  },
  {
   "cell_type": "code",
   "execution_count": 4,
   "metadata": {},
   "outputs": [],
   "source": [
    "summarizer = LexRankSummarizer()"
   ]
  },
  {
   "cell_type": "code",
   "execution_count": 84,
   "metadata": {},
   "outputs": [],
   "source": [
    "path = '/Users/noahedelstein/Desktop/Parsons/design with ml/ml_final/ml_final_python/state-of-the-union/transcripts.json'\n",
    "\n",
    "with open(path) as data_file:\n",
    "  data = data_file.read()\n",
    "  # print(data) \n",
    "  data_content = json.loads(data)\n",
    "  president = [line['president'] for line in data_content]\n",
    "  dates = [line['date'] for line in data_content]\n",
    "#   print(date)\n",
    "  transcripts = [line['transcript'] for line in data_content]\n",
    "  # parser = [PlaintextParser.from_string(transcript, Tokenizer(\"english\")) for line in data_content]\n",
    "  \n",
    "#   print(transcripts[0])"
   ]
  },
  {
   "cell_type": "code",
   "execution_count": 6,
   "metadata": {},
   "outputs": [],
   "source": [
    "summarizer.stop_words = get_stop_words(\"english\")"
   ]
  },
  {
   "cell_type": "code",
   "execution_count": 7,
   "metadata": {},
   "outputs": [],
   "source": [
    "sum_lex = []\n",
    "for transcript in transcripts:\n",
    "    parser = PlaintextParser.from_string(transcript, Tokenizer(\"english\"))\n",
    "    summary = summarizer(parser.document,8)\n",
    "    sum_lex.append(str(summary))\n",
    "    # text = summary__repr__()"
   ]
  },
  {
   "cell_type": "code",
   "execution_count": 8,
   "metadata": {},
   "outputs": [],
   "source": [
    "stop_words = set(stopwords.words('english'))"
   ]
  },
  {
   "cell_type": "code",
   "execution_count": 37,
   "metadata": {},
   "outputs": [
    {
     "name": "stdout",
     "output_type": "stream",
     "text": "All the nations of the world—friend or foe—will find that America is strong America is proud and America is free.  Because only then can we truly make America great again.  It's been a long time since we had fair trade.  Should have never been in our country.  All the nations of the world—friend or foe—will find that America is strong America is proud and America is free.  Because only then can we truly make America great again.  It's been a long time since we had fair trade.  Should have never been in our country.\n"
    }
   ],
   "source": []
  },
  {
   "cell_type": "code",
   "execution_count": 35,
   "metadata": {},
   "outputs": [],
   "source": [
    "sum_lex = [w.replace(\"<Sentence:\", \"\") for w in sum_lex]\n",
    "sum_lex = [w.replace(\"(\", \"[\") for w in sum_lex]\n",
    "sum_lex = [w.replace(\">\", \"\") for w in sum_lex]\n",
    "sum_lex = [w.replace(\")\", \"]\") for w in sum_lex]\n",
    "sum_lex = [w.replace(\",\", \"\") for w in sum_lex]"
   ]
  },
  {
   "cell_type": "code",
   "execution_count": 88,
   "metadata": {},
   "outputs": [
    {
     "name": "stdout",
     "output_type": "stream",
     "text": "l\n"
    }
   ],
   "source": [
    "print(sum_lex[0])"
   ]
  },
  {
   "cell_type": "code",
   "execution_count": 33,
   "metadata": {},
   "outputs": [
    {
     "name": "stdout",
     "output_type": "stream",
     "text": "Northwestern frontier have terminated.You will I am persuaded learn with no less concern than I communicate it that reiterated endeavors toward effecting a pacification have hitherto issued only in new and outrageous proofs of persevering hostility on the part of the tribes with whom we are in contest.  It will I presume be duly considered whether the occasion does not call for an exercise of liberality toward the families of the deceased.It must add to your concern to be informed that besides the continuation of hostile appearances among the tribes north of the Ohio some threatening symptoms have of late been revived among some of those south of it.A part of the Cherokees known by the name of Chickamaugas inhabiting five villages on the Tennessee River have long been in the practice of committing depredations on the neighboring settlements.It was hoped that the treaty of Holston made with the Cherokee Nation in July 1791 would have prevented a repetition of such depredations; but the event has not answered this hope.  A statement from the proper department with regard to the number of troops raised and some other points which have been suggested will afford more precise information as a guide to the legislative consultations and among other things will enable Congress to judge whether some additional stimulus to the recruiting service may not be advisable.In looking forward to the future expense of the operations which may be found inevitable I derive consolation from the information I receive that the product of the revenues for the present year is likely to supersede the necessity of additional burthens on the community for the service of the ensuing year.  These impediments have lessened and are lessening in local extent and as applied to the community at large the contentment with the law appears to be progressive.But symptoms of increased opposition having lately manifested themselves in certain quarters I judged a special interposition on my part proper and advisable and under this impression have issued a proclamation warning against all unlawful combinations and proceedings having for their object or tending to obstruct the operation of the law in question and announcing that all lawful ways and means would be strictly put in execution for bringing to justice the infractors thereof and securing obedience thereto.Measures have also been taken for the prosecution of offenders and Congress may be assured that nothing within constitutional and legal limits which may depend upon me shall be wanting to assert and maintain the just authority of the laws.  The rates of these loans and the circumstances under which they have been made are confirmations of the high state of our credit abroad.Among the objects to which these funds have been directed to be applied the payment of the debts due to certain foreign officers according to the provision made during the last session has been embraced.Gentlemen of the House of Representatives: I entertain a strong hope that the state of the national finances is now sufficiently matured to enable you to enter upon a systematic and effectual arrangement for the regular redemption and discharge of the public debt according to the right which has been reserved to the Government.  In fulfilling the public stipulations in this particular it is expected a valuable saving will be made.Appropriations for the current service of the ensuing year and for such extraordinaries as may require provision will demand and I doubt not will engage your early attention.Gentlemen of the Senate and of the House of Representatives: I content myself with recalling your attention generally to such objects not particularized in my present as have been suggested in my former communications to you.Various temporary laws will expire during the present session.  Among these that which regulates trade and intercourse with the Indian tribes will merit particular notice.The results of your common deliberations hitherto will I trust be productive of solid and durable advantages to our constituents such as by conciliating more and more their ultimate suffrage will tend to strengthen and confirm their attachment to that Constitution of Government upon which under Divine Providence materially depend their union their safety and their happiness.Still further to promote and secure these inestimable ends there is nothing which can have a more powerful tendency than the careful cultivation of harmony combined with a due regard to stability in the public councils.  A detail of the measures which have been pursued and of their consequences which will be laid before you while it will confirm to you the want of success thus far will I trust evince that means as proper and as efficacious as could have been devised have been employed.', ' Fellow-Citizens of the Senate and House of Representatives: \"In vain may we expect peace with the Indians on our frontiers so long as a lawless set of unprincipled wretches can violate the rights of hospitality or infringe the most solemn treaties without receiving the punishment they so justly merit.\"  But you nevertheless can not fail to derive satisfaction from the confirmation of these circumstances which will be disclosed in the several official communications that will be made to you in the course of your deliberations.The rapid subscriptions to the Bank of the United States which completed the sum allowed to be subscribed in a single day is among the striking and pleasing evidences which present themselves not only of confidence in the Government but of resource in the community.In the interval of your recess due attention has been paid to the execution of the different objects which were specially provided for by the laws and resolutions of the last session.Among the most important of these is the defense and security of the western frontiers.  To accomplish it on the most humane principles was a primary wish.Accordingly at the same time the treaties have been provisionally concluded and other proper means used to attach the wavering and to confirm in their friendship the well-disposed tribes of Indians effectual measures have been adopted to make those of a hostile description sensible that a pacification was desired upon terms of moderation and justice.Those measures having proved unsuccessful it became necessary to convince the refractory of the power of the United States to punish their depredations.  The expeditions which have been completed were carried on under the authority and at the expense of the United States by the militia of Kentucky whose enterprise intrepidity and good conduct are entitled of peculiar commendation.Overtures of peace are still continued to the deluded tribes and considerable numbers of individuals belonging to them have lately renounced all further opposition removed from their former situations and placed themselves under the immediate protection of the United States.It is sincerely to be desired that all need of coercion in future may cease and that an intimate intercourse may succeed calculated to advance the happiness of the Indians and to attach them firmly to the United States.In order to this it seems necessary - That they should experience the benefits of an impartial dispensation of justice.  A city has also been laid out agreeably to a plan which will be placed before Congress and as there is a prospect favored by the rate of sales which have already taken place of ample funds for carrying on the necessary public buildings there is every expectation of their due progress.The completion of the census of the inhabitants for which provision was made by law has been duly notified excepting one instance in which the return has been informal and another in which it has been omitted or miscarried and the returns of the officers who were charged with this duty which will be laid before you will give you the pleasing assurance that the present population of the United States borders on 4000000 persons.It is proper also to inform you that a further loan of 2500000 florins has been completed in Holland the terms of which are similar to those of the one last announced except as to a small reduction of charges.  The part of the debt of the United States which remains unsubscribed will naturally engage your further deliberations.It is particularly pleasing to me to be able to announce to you that the revenues which have been established promise to be adequate to their objects and may be permitted if no unforeseen exigency occurs to supersede for the present the necessity of any new burthens upon our constituents.An object which will claim your early attention is a provision for the current service of the ensuing year together with such ascertained demands upon the Treasury as require to be immediately discharged and such casualties as may have arisen in the execution of the public business for which no specific appropriation may have yet been made; of all which a proper estimate will be laid before you.Gentlemen of the Senate and of the House of Representatives: I shall content myself with a general reference to former communications for several objects upon which the urgency of other affairs has hitherto postponed any definitive resolution.  The establishment of additional cross posts especially to some of the important points in the Western and Northern parts of the Union can not fail to be of material utility.The disorders in the existing currency and especially the scarcity of small change a scarcity so peculiarly distressing to the poorer classes strongly recommend the carrying into immediate effect the resolution already entered into concerning the establishment of a mint.  Measures have been taken pursuant to that resolution for procuring some of the most necessary artists together with the requisite apparatus.An uniformity in the weights and measures of the country is among the important objects submitted to you by the Constitution and if it can be derived from a standard at once invariable and universal must be no less honorable to the public councils than conducive to the public convenience.A provision for the sale of the vacant lands of the United States is particularly urged among other reasons by the important considerations that they are pledged as a fund for reimbursing the public debt; that if timely and judiciously applied they may save the necessity of burthening our citizens with new taxes for the extinguishment of the principal; and that being free to discharge the principal but in a limited proportion no opportunity ought to be lost for availing the public of its right.', ' Fellow-Citizens of the Senate and House of Representatives: In meeting you again I feel much satisfaction in being able to repeat my congratulations on the favorable prospects which continue to distinguish our public affairs.  The punctuality of the former in discharging their engagements has been exemplary.In conformity to the powers vested in me by acts of the last session a loan of 3000000 florins toward which some provisional measures had previously taken place has been completed in Holland.  I shall cause the papers on this very transaction to be laid before you.The liberality and harmony with which it has been conducted will be found to do great honor to both the parties and the sentiments of warm attachment to the Union and its present Government expressed by our fellow citizens of Kentucky can not fail to add an affectionate concern for their particular welfare to the great national impressions under which you will decide on the case submitted to you.It has been heretofore known to Congress that frequent incursion have been made on our frontier settlements by certain banditti of Indians from the northwest side of the Ohio.  The lives of a number of valuable citizens have thus been sacrificed and some of them under circumstances peculiarly shocking whilst others have been carried into a deplorable captivity.These aggravated provocations rendered it essential to the safety of the Western settlements that the aggressors should be made sensible that the Government of the Union is not less capable of punishing their crimes than it is disposed to respect their rights and reward their attachments.  So many circumstances unite in rendering the present state of it distressful to us that you will not think any deliberations misemployed which may lead to its relief and protection.The laws you have already passed for the establishment of a judiciary system have opened the doors of justice to all descriptions of persons.  Some legislative provision is requisite to carry these stipulations into full effect.The establishment of the militia of a mint of standards of weights and measures of the post office and post roads are subjects which I presume you will resume of course and which are abundantly urged by their own importance.Gentlemen of the House of Representatives:The sufficiency of the revenues you have established for the objects to which they are appropriated leaves no doubt that the residuary provisions will be commensurate to the other objects for which the public faith stands now pledged.  The abundant fruits of another year have blessed our country with plenty and with the means of a flourishing commerce.  Since your last sessions I have received communications by which it appears that the district of Kentucky at present a part of Virginia has concurred in certain propositions contained in a law of that State in consequence of which the district is to become a distinct member of the Union in case the requisite sanction of Congress be added.', ' The recent accession of the important state of North Carolina to the Constitution of the United States of which official information has been received the rising credit and respectability of our country the general and increasing good will toward the government of the Union and the concord peace and plenty with which we are blessed are circumstances auspicious in an eminent degree to our national prosperity.In resuming your consultations for the general good you can not but derive encouragement from the reflection that the measures of the last session have been as satisfactory to your constituents as the novelty and difficulty of the work allowed you to hope.  Still further to realize their expectations and to secure the blessings which a gracious Providence has placed within our reach will in the course of the present important session call for the cool and deliberate exertion of your patriotism firmness and wisdom.Among the many interesting objects which will engage your attention that of providing for the common defense will merit particular regard.  To be prepared for war is one of the most effectual means of preserving peace.A free people ought not only to be armed but disciplined; to which end a uniform and well-digested plan is requisite; and their safety and interest require that they should promote such manufactories as tend to render them independent of others for essential particularly military supplies.The proper establishment of the troops which may be deemed indispensable will be entitled to mature consideration.  In the arrangements which may be made respecting it it will be of importance to conciliate the comfortable support of the officers and soldiers with a due regard to economy.There was reason to hope that the pacific measures adopted with regard to certain hostile tribes of Indians would have relieved the inhabitants of our southern and western frontiers from their depredations but you will perceive from the information contained in the papers which I shall direct to be laid before you comprehending a communication from the Commonwealth of Virginia that we ought to be prepared to afford protection to those parts of the Union and if necessary to punish aggressors.The interests of the United States require that our intercourse with other nations should be facilitated by such provisions as will enable me to fulfill my duty in that respect in the manner which circumstances may render most conducive to the public good and to this end that the compensation to be made to the persons who may be employed should according to the nature of their appointments be defined by law and a competent fund designated for defraying the expenses incident to the conduct of foreign affairs.Various considerations also render it expedient that the terms on which foreigners may be admitted to the rights of citizens should be speedily ascertained by a uniform rule of naturalization.Uniformity in the currency weights and measures of the United States is an object of great importance and will I am persuaded be duly attended to.The advancement of agriculture commerce and manufactures by all proper means will not I trust need recommendation; but I can not forbear intimating to you the expediency of giving effectual encouragement as well to the introduction of new and useful inventions from abroad as to the exertions of skill and genius in producing them at home and of facilitating the intercourse between the distant parts of our country by a due attention to the post-office and post-roads.Nor am I less persuaded that you will agree with me in opinion that there is nothing which can better deserve your patronage than the promotion of science and literature.  In one in which the measures of government receive their impressions so immediately from the sense of the community as in ours it is proportionably essential.To the security of a free constitution it contributes in various ways - by convincing those who are intrusted with the public administration that every valuable end of government is best answered by the enlightened confidence of the people and by teaching the people themselves to know and to value their own rights; to discern and provide against invasions of them; to distinguish between oppression and the necessary exercise of lawful authority; between burthens proceeding from a disregard to their convenience and those resulting from the inevitable exigencies of society; to discriminate the spirit of liberty from that of licentiousness - cherishing the first avoiding the last - and uniting a speedy but temperate vigilance against encroachments with an inviolable respect to the laws.Whether this desirable object will be best promoted by affording aids to seminaries of learning already established by the institution of a national university or by any other expedients will be well worthy of a place in the deliberations of the legislature.Gentlemen of the House of Representatives: I saw with peculiar pleasure at the close of the last session the resolution entered into by you expressive of your opinion that an adequate provision for the support of the public credit is a matter of high importance to the national honor and prosperity.  In this sentiment I entirely concur; and to a perfect confidence in your best endeavors to devise such a provision as will be truly with the end I add an equal reliance on the cheerful cooperation of the other branch of the legislature.It would be superfluous to specify inducements to a measure in which the character and interests of the United States are so obviously so deeply concerned and which has received so explicit a sanction from your declaration.  Gentlemen of the Senate and House of Representatives: I have directed the proper officers to lay before you respectively such papers and estimates as regard the affairs particularly recommended to your consideration and necessary to convey to you that information of the state of the Union which it is my duty to afford.  The welfare of our country is the great object to which our cares and efforts ought to be directed and I shall derive great satisfaction from a cooperation with you in the pleasing though arduous task of insuring to our fellow citizens the blessings which they have a right to expect from a free efficient and equal government.']\n"
    }
   ],
   "source": [
    "print(sum_lex)"
   ]
  },
  {
   "cell_type": "markdown",
   "execution_count": 41,
   "metadata": {},
   "outputs": [
    {
     "data": {
      "text/plain": "'(<Sentence: The recent accession of the important state of North Carolina to the Constitution of the United States (of which official information has been received), the rising credit and respectability of our country, the general and increasing good will toward the government of the Union, and the concord, peace, and plenty with which we are blessed are circumstances auspicious in an eminent degree to our national prosperity.In resuming your consultations for the general good you can not but derive encouragement from the reflection that the measures of the last session have been as satisfactory to your constituents as the novelty and difficulty of the work allowed you to hope.>, <Sentence: Still further to realize their expectations and to secure the blessings which a gracious Providence has placed within our reach will in the course of the present important session call for the cool and deliberate exertion of your patriotism, firmness, and wisdom.Among the many interesting objects which will engage your attention that of providing for the common defense will merit particular regard.>, <Sentence: To be prepared for war is one of the most effectual means of preserving peace.A free people ought not only to be armed, but disciplined; to which end a uniform and well-digested plan is requisite; and their safety and interest require that they should promote such manufactories as tend to render them independent of others for essential, particularly military, supplies.The proper establishment of the troops which may be deemed indispensable will be entitled to mature consideration.>, <Sentence: In the arrangements which may be made respecting it it will be of importance to conciliate the comfortable support of the officers and soldiers with a due regard to economy.There was reason to hope that the pacific measures adopted with regard to certain hostile tribes of Indians would have relieved the inhabitants of our southern and western frontiers from their depredations, but you will perceive from the information contained in the papers which I shall direct to be laid before you (comprehending a communication from the Commonwealth of Virginia) that we ought to be prepared to afford protection to those parts of the Union, and, if necessary, to punish aggressors.The interests of the United States require that our intercourse with other nations should be facilitated by such provisions as will enable me to fulfill my duty in that respect in the manner which circumstances may render most conducive to the public good, and to this end that the compensation to be made to the persons who may be employed should, according to the nature of their appointments, be defined by law, and a competent fund designated for defraying the expenses incident to the conduct of foreign affairs.Various considerations also render it expedient that the terms on which foreigners may be admitted to the rights of citizens should be speedily ascertained by a uniform rule of naturalization.Uniformity in the currency, weights, and measures of the United States is an object of great importance, and will, I am persuaded, be duly attended to.The advancement of agriculture, commerce, and manufactures by all proper means will not, I trust, need recommendation; but I can not forbear intimating to you the expediency of giving effectual encouragement as well to the introduction of new and useful inventions from abroad as to the exertions of skill and genius in producing them at home, and of facilitating the intercourse between the distant parts of our country by a due attention to the post-office and post-roads.Nor am I less persuaded that you will agree with me in opinion that there is nothing which can better deserve your patronage than the promotion of science and literature.>, <Sentence: In one in which the measures of government receive their impressions so immediately from the sense of the community as in ours it is proportionably essential.To the security of a free constitution it contributes in various ways - by convincing those who are intrusted with the public administration that every valuable end of government is best answered by the enlightened confidence of the people, and by teaching the people themselves to know and to value their own rights; to discern and provide against invasions of them; to distinguish between oppression and the necessary exercise of lawful authority; between burthens proceeding from a disregard to their convenience and those resulting from the inevitable exigencies of society; to discriminate the spirit of liberty from that of licentiousness - cherishing the first, avoiding the last - and uniting a speedy but temperate vigilance against encroachments, with an inviolable respect to the laws.Whether this desirable object will be best promoted by affording aids to seminaries of learning already established, by the institution of a national university, or by any other expedients will be well worthy of a place in the deliberations of the legislature.Gentlemen of the House of Representatives: I saw with peculiar pleasure at the close of the last session the resolution entered into by you expressive of your opinion that an adequate provision for the support of the public credit is a matter of high importance to the national honor and prosperity.>, <Sentence: In this sentiment I entirely concur; and to a perfect confidence in your best endeavors to devise such a provision as will be truly with the end I add an equal reliance on the cheerful cooperation of the other branch of the legislature.It would be superfluous to specify inducements to a measure in which the character and interests of the United States are so obviously so deeply concerned, and which has received so explicit a sanction from your declaration.>, <Sentence: Gentlemen of the Senate and House of Representatives: I have directed the proper officers to lay before you, respectively, such papers and estimates as regard the affairs particularly recommended to your consideration, and necessary to convey to you that information of the state of the Union which it is my duty to afford.>, <Sentence: The welfare of our country is the great object to which our cares and efforts ought to be directed, and I shall derive great satisfaction from a cooperation with you in the pleasing though arduous task of insuring to our fellow citizens the blessings which they have a right to expect from a free, efficient, and equal government.>)'"
     },
     "execution_count": 41,
     "metadata": {},
     "output_type": "execute_result"
    }
   ],
   "source": []
  },
  {
   "cell_type": "code",
   "execution_count": 68,
   "metadata": {},
   "outputs": [],
   "source": [
    "def tokenize(text):\n",
    "    # first change all to lower case\n",
    "    text = text.lower()\n",
    "    # remove the http urls with a regular expression\n",
    "    remove_urls = re.sub(r\"http\\S+\", \"\", text)\n",
    "    # remove punctuation - small note - periods are not important but other punctuation\n",
    "    # could be useful to leave in!\n",
    "    remove_punctuation = remove_urls.translate(str.maketrans('','',string.punctuation))\n",
    "    # tokenize our sentences into words\n",
    "    tokens = nltk.word_tokenize(remove_punctuation)\n",
    "    remove_stops = [w for w in tokens if not w in stop_words]\n",
    "    stems = [PorterStemmer().stem(t) for t in remove_stops]\n",
    "    return stems"
   ]
  },
  {
   "cell_type": "code",
   "execution_count": 69,
   "metadata": {},
   "outputs": [
    {
     "name": "stdout",
     "output_type": "stream",
     "text": "calculating tf-idf\n"
    }
   ],
   "source": [
    "from sklearn.feature_extraction.text import TfidfVectorizer\n",
    "\n",
    "# calculating the tf-idf may take a while\n",
    "print(\"calculating tf-idf\")\n",
    "tfidf = TfidfVectorizer(tokenizer=tokenize)\n",
    "tfs = tfidf.fit_transform(transcripts)"
   ]
  },
  {
   "cell_type": "code",
   "execution_count": 70,
   "metadata": {},
   "outputs": [
    {
     "name": "stdout",
     "output_type": "stream",
     "text": "reducing tf-idf to 2 dim\ndone\n"
    }
   ],
   "source": [
    "from sklearn.decomposition import TruncatedSVD\n",
    "\n",
    "print(\"reducing tf-idf to 2 dim\")\n",
    "tfs_reduced = TruncatedSVD(n_components=2, random_state=0).fit_transform(tfs)\n",
    "print(\"done\")"
   ]
  },
  {
   "cell_type": "code",
   "execution_count": 71,
   "metadata": {},
   "outputs": [
    {
     "name": "stdout",
     "output_type": "stream",
     "text": "[[ 4.04167602e-01  3.58701260e-01]\n [ 4.60119675e-01  3.72034618e-01]\n [ 4.09314427e-01  4.36664316e-01]\n [ 4.42697662e-01  4.74247617e-01]\n [ 4.55825587e-01  5.01986131e-01]\n [ 4.78979969e-01  4.92122906e-01]\n [ 4.45095102e-01  4.64507266e-01]\n [ 4.60952834e-01  4.83752442e-01]\n [ 4.87272296e-01  4.87636515e-01]\n [ 4.85579141e-01  4.97330065e-01]\n [ 4.62702799e-01  4.25640812e-01]\n [ 4.43315228e-01  3.69291334e-01]\n [ 5.07086453e-01  4.51361366e-01]\n [ 4.81421158e-01  3.92114963e-01]\n [ 4.59603047e-01  4.33163198e-01]\n [ 4.09091149e-01  3.46554126e-01]\n [ 4.07127933e-01  3.68710018e-01]\n [ 4.81652279e-01  4.65850141e-01]\n [ 4.89700258e-01  5.27800543e-01]\n [ 5.04340523e-01  4.97579414e-01]\n [ 5.18171131e-01  5.23660146e-01]\n [ 4.95184220e-01  5.16845948e-01]\n [ 4.79576580e-01  4.83032826e-01]\n [ 5.35319223e-01  4.84478696e-01]\n [ 5.04148965e-01  4.95593265e-01]\n [ 5.44995803e-01  5.21197805e-01]\n [ 4.81227717e-01  4.70017209e-01]\n [ 4.92399189e-01  4.36807798e-01]\n [ 4.53870558e-01  4.57490027e-01]\n [ 4.92228220e-01  5.09386499e-01]\n [ 4.87039071e-01  4.25817372e-01]\n [ 4.59842616e-01  3.89448310e-01]\n [ 4.40281380e-01  4.32471611e-01]\n [ 5.13271114e-01  4.89810187e-01]\n [ 5.07830117e-01  4.59795178e-01]\n [ 5.41928677e-01  5.00609369e-01]\n [ 5.24042706e-01  4.49566950e-01]\n [ 4.48062398e-01  3.96331764e-01]\n [ 5.66925470e-01  3.30917187e-01]\n [ 4.45962172e-01  3.40079643e-01]\n [ 6.08176764e-01  3.60864119e-01]\n [ 5.64204847e-01  3.60898526e-01]\n [ 4.96356209e-01  4.11383248e-01]\n [ 5.72214469e-01  4.53382803e-01]\n [ 5.47354532e-01  3.37436525e-01]\n [ 5.86476725e-01  3.28432588e-01]\n [ 5.69573777e-01  4.33044880e-01]\n [ 4.83260349e-01  3.61947703e-01]\n [ 5.86739656e-01  4.21150838e-01]\n [ 6.43640632e-01  3.75368237e-01]\n [ 3.44617387e-01  9.79702264e-02]\n [ 4.50866269e-01  2.31244791e-01]\n [ 5.35434495e-01  3.53553551e-01]\n [ 4.84993251e-01  3.65533186e-01]\n [ 4.21236710e-01  2.16112904e-01]\n [ 4.64616530e-01  2.92892614e-01]\n [ 5.67216978e-01  4.12613303e-01]\n [ 6.36278904e-01  4.27598462e-01]\n [ 5.51813170e-01  3.23815387e-01]\n [ 5.53186936e-01  4.06345408e-01]\n [ 5.33141914e-01  3.03375492e-01]\n [ 5.45356137e-01  3.71939623e-01]\n [ 5.96290805e-01  3.92478793e-01]\n [ 5.14650050e-01  3.46029247e-01]\n [ 5.43396810e-01  3.98769639e-01]\n [ 4.82533118e-01  3.74444961e-01]\n [ 5.19952669e-01  3.78617950e-01]\n [ 5.61949247e-01  3.48182633e-01]\n [ 5.60173445e-01  3.22036129e-01]\n [ 5.33441990e-01  3.18899872e-01]\n [ 6.14547558e-01  2.85442259e-01]\n [ 6.28801686e-01  3.31291630e-01]\n [ 5.29150432e-01  3.17682967e-01]\n [ 6.12190142e-01  2.51492297e-01]\n [ 4.04921316e-01  2.37185800e-01]\n [ 6.78359209e-01  3.27962567e-01]\n [ 6.57758907e-01  3.08995931e-01]\n [ 6.49300696e-01  2.65710368e-01]\n [ 6.60192495e-01  2.30753300e-01]\n [ 5.12226277e-01  2.70631847e-01]\n [ 5.60548340e-01  3.46905379e-01]\n [ 4.83878947e-01  2.95535074e-01]\n [ 6.33727283e-01  3.17647320e-01]\n [ 6.01328505e-01  2.47821024e-01]\n [ 6.22377794e-01  3.12543492e-01]\n [ 6.27420659e-01  1.90935639e-01]\n [ 5.81857173e-01  1.84285697e-01]\n [ 4.64522190e-01  1.97813891e-01]\n [ 5.23856732e-01  2.06471362e-01]\n [ 4.79082057e-01  1.83190592e-01]\n [ 3.95608543e-01  1.97841505e-01]\n [ 3.77179187e-01  1.82650796e-01]\n [ 5.08654051e-01  2.21796144e-01]\n [ 5.15433369e-01  2.25442054e-01]\n [ 5.21994985e-01  2.27743499e-01]\n [ 5.61185698e-01  1.64135476e-01]\n [ 5.05584796e-01  1.51735718e-01]\n [ 4.99165986e-01  1.47496753e-01]\n [ 5.40012039e-01  1.75347698e-01]\n [ 4.97594084e-01  1.14675046e-01]\n [ 5.38139500e-01  7.50714923e-02]\n [ 5.80542344e-01  3.39119384e-02]\n [ 5.23733307e-01  1.15748318e-02]\n [ 7.21711828e-01 -4.35812220e-02]\n [ 7.14779984e-01  5.86567052e-03]\n [ 7.11146176e-01 -2.10374791e-02]\n [ 7.31849946e-01 -7.70516873e-03]\n [ 7.14281394e-01 -4.17945498e-02]\n [ 6.93747059e-01  1.99274605e-02]\n [ 6.87267902e-01  1.43295221e-02]\n [ 5.35769260e-01  7.03979483e-02]\n [ 5.83679306e-01  3.76624351e-02]\n [ 5.47440898e-01 -2.24483646e-02]\n [ 5.85598288e-01  6.69407149e-02]\n [ 5.42576028e-01  2.82557360e-02]\n [ 4.55323932e-01  9.20637756e-02]\n [ 4.77611132e-01 -1.02131327e-01]\n [ 5.95365371e-01  4.41423042e-02]\n [ 5.77764479e-01  5.64920443e-02]\n [ 5.52654523e-01 -1.65318107e-02]\n [ 8.11382463e-01 -1.36548329e-01]\n [ 7.03027435e-01 -1.46434762e-01]\n [ 7.58571411e-01 -1.73146471e-01]\n [ 7.36546159e-01 -1.90206848e-01]\n [ 6.79572526e-01 -2.02850860e-02]\n [ 7.62759783e-01 -5.83794241e-02]\n [ 7.11531737e-01 -2.14665278e-02]\n [ 7.57188280e-01 -5.73856467e-02]\n [ 7.42787689e-01 -5.03878377e-02]\n [ 6.82113633e-01 -1.55734055e-01]\n [ 6.63997227e-01 -3.29195371e-02]\n [ 7.18340945e-01  3.27838321e-04]\n [ 6.79913837e-01 -1.78695341e-01]\n [ 7.58218040e-01 -2.09169355e-01]\n [ 6.79926144e-01 -2.32232022e-01]\n [ 6.99633460e-01 -2.09011510e-01]\n [ 7.06067466e-01 -1.73808785e-01]\n [ 5.54659836e-01 -2.02400205e-01]\n [ 6.88457336e-01 -2.04402108e-01]\n [ 6.63721820e-01 -1.85015630e-01]\n [ 5.93645688e-01 -1.38012738e-01]\n [ 7.26456068e-01 -2.12596805e-01]\n [ 6.98893964e-01 -1.94104392e-01]\n [ 7.49189309e-01 -2.24178771e-01]\n [ 7.05746229e-01 -1.89791588e-01]\n [ 4.87461716e-01 -1.17687731e-01]\n [ 7.64606260e-01 -2.26222297e-01]\n [ 7.70082444e-01 -2.69768531e-01]\n [ 6.89928228e-01 -2.48145396e-01]\n [ 6.87317977e-01 -2.65118472e-01]\n [ 6.95742383e-01 -2.48262594e-01]\n [ 7.38316194e-01 -2.45830184e-01]\n [ 7.59365253e-01 -2.45093323e-01]\n [ 7.54129411e-01 -2.73141189e-01]\n [ 6.90091049e-01 -2.25093074e-01]\n [ 7.34570307e-01 -2.56924782e-01]\n [ 6.68669067e-01 -2.65327236e-01]\n [ 7.48197471e-01 -2.44815626e-01]\n [ 7.25605505e-01 -2.53174314e-01]\n [ 7.35335843e-01 -2.44001367e-01]\n [ 6.86214537e-01 -2.51999275e-01]\n [ 7.13886190e-01 -2.43127818e-01]\n [ 7.04420031e-01 -2.55818483e-01]\n [ 7.31572156e-01 -2.54485946e-01]\n [ 6.83774806e-01 -2.15283892e-01]\n [ 7.21232493e-01 -2.15072333e-01]\n [ 6.98474245e-01 -2.82179852e-01]\n [ 7.20297601e-01 -1.94263085e-01]\n [ 6.43746441e-01 -1.82778483e-01]\n [ 6.70347772e-01 -2.65289522e-01]\n [ 6.43034381e-01 -1.67214542e-01]\n [ 6.39871022e-01 -1.92705542e-01]\n [ 6.85098662e-01 -2.84396730e-01]\n [ 6.72900628e-01 -2.51226094e-01]\n [ 7.34736949e-01 -2.99075336e-01]\n [ 6.69646897e-01 -2.69485911e-01]\n [ 6.84906052e-01 -2.91148966e-01]\n [ 6.94725659e-01 -3.03816801e-01]\n [ 7.24946484e-01 -2.75636287e-01]\n [ 7.18126249e-01 -2.87569867e-01]\n [ 7.25740536e-01 -2.82673760e-01]\n [ 7.49175687e-01 -3.07799237e-01]\n [ 7.32841058e-01 -3.20735267e-01]\n [ 7.06147937e-01 -2.83354527e-01]\n [ 7.49166811e-01 -2.58353291e-01]\n [ 6.68151952e-01 -2.80681533e-01]\n [ 5.84403704e-01 -2.63749732e-01]\n [ 7.31043147e-01 -3.00095019e-01]\n [ 7.08133168e-01 -2.88047898e-01]\n [ 7.17182745e-01 -2.92559066e-01]\n [ 6.89554798e-01 -2.74536894e-01]\n [ 7.16506915e-01 -3.06415384e-01]\n [ 7.13386513e-01 -2.51990512e-01]\n [ 6.89046649e-01 -2.60603374e-01]\n [ 7.33324318e-01 -3.30534021e-01]\n [ 7.50153932e-01 -3.16399958e-01]\n [ 7.13508250e-01 -2.77225131e-01]\n [ 7.00659309e-01 -2.79454772e-01]\n [ 7.44463102e-01 -3.07329308e-01]\n [ 7.06841202e-01 -3.37450097e-01]\n [ 7.38971161e-01 -2.91689860e-01]\n [ 6.93461312e-01 -2.97575769e-01]\n [ 7.68803624e-01 -3.13220614e-01]\n [ 7.54751300e-01 -3.10407352e-01]\n [ 6.70837767e-01 -2.53011887e-01]\n [ 6.65927490e-01 -2.97488843e-01]\n [ 6.61686519e-01 -2.60887952e-01]\n [ 6.94906745e-01 -2.32106357e-01]\n [ 6.74059939e-01 -2.97562460e-01]\n [ 6.66638014e-01 -2.81973899e-01]\n [ 6.04812602e-01 -2.77284843e-01]\n [ 6.01980983e-01 -3.02100738e-01]\n [ 5.93792264e-01 -2.47998532e-01]\n [ 5.57077421e-01 -2.96900515e-01]\n [ 5.46254216e-01 -2.68693756e-01]\n [ 6.25416459e-01 -3.00793229e-01]\n [ 6.11869228e-01 -2.40808823e-01]\n [ 5.67684255e-01 -2.22032752e-01]\n [ 3.67290603e-01 -7.81212800e-02]\n [ 4.76631624e-01 -1.50779129e-01]\n [ 4.69398471e-01 -1.77197562e-01]\n [ 5.11604783e-01 -2.21473859e-01]\n [ 5.31455872e-01 -2.31187088e-01]\n [ 4.68227943e-01 -2.10843017e-01]\n [ 5.32465737e-01 -2.07277924e-01]\n [ 4.96416085e-01 -1.62886029e-01]\n [ 5.31425991e-01 -1.83651475e-01]\n [ 5.25470839e-01 -1.62740632e-01]\n [ 5.12333482e-01 -1.86604596e-01]\n [ 5.15974326e-01 -1.74176179e-01]\n [ 4.71306878e-01 -1.51661204e-01]\n [ 5.41364439e-01 -1.81584958e-01]\n [ 4.66906900e-01 -1.89369167e-01]\n [ 4.81631941e-01 -2.04245764e-01]\n [ 4.70688194e-01 -2.21205042e-01]\n [ 5.06994443e-01 -2.46387409e-01]\n [ 5.50592727e-01 -2.37754960e-01]\n [ 4.59364883e-01 -2.10465409e-01]\n [ 4.73384576e-01 -1.83080989e-01]\n [ 5.48583066e-01 -2.41880986e-01]\n [ 4.82538420e-01 -2.16162048e-01]\n [ 5.11430358e-01 -2.45648913e-01]\n [ 4.39595690e-01 -1.59730854e-01]\n [ 4.43191483e-01 -1.79319506e-01]]\n"
    }
   ],
   "source": [
    "print(tfs_reduced)"
   ]
  },
  {
   "cell_type": "code",
   "execution_count": 72,
   "metadata": {},
   "outputs": [],
   "source": [
    "from sklearn.preprocessing import StandardScaler\n",
    "\n",
    "ss = StandardScaler()\n",
    "scaled = ss.fit_transform(tfs_reduced)"
   ]
  },
  {
   "cell_type": "code",
   "execution_count": 73,
   "metadata": {},
   "outputs": [],
   "source": [
    "from sklearn.cluster import KMeans\n",
    "\n",
    "kmeans = KMeans(n_clusters=10)\n",
    "clusters = kmeans.fit_predict(scaled)"
   ]
  },
  {
   "cell_type": "code",
   "execution_count": 74,
   "metadata": {},
   "outputs": [],
   "source": [
    "from sklearn.neighbors import NearestNeighbors\n",
    "\n",
    "neighbors = NearestNeighbors(n_neighbors=5, metric='cosine').fit(scaled)\n",
    "_, closest = neighbors.kneighbors(kmeans.cluster_centers_)"
   ]
  },
  {
   "cell_type": "code",
   "execution_count": 75,
   "metadata": {},
   "outputs": [
    {
     "name": "stdout",
     "output_type": "stream",
     "text": "\n\nCluster number 0\n\n\n2014-01-28 Barack Obama\n\n\n\n2011-01-25 Barack Obama\n\n\n\n1988-01-25 Ronald Reagan\n\n\n\n2001-02-27 George W. Bush\n\n\n\n1992-01-28 George Bush\n\n\n\n\n\nCluster number 1\n\n\n1883-12-04 Chester A. Arthur\n\n\n\n1893-12-04 Grover Cleveland\n\n\n\n1842-12-06 John Tyler\n\n\n\n1839-12-02 Martin van Buren\n\n\n\n1872-12-02 Ulysses S. Grant\n\n\n\n\n\nCluster number 2\n\n\n1793-12-03 George Washington\n\n\n\n1796-12-07 George Washington\n\n\n\n1895-12-02 Grover Cleveland\n\n\n\n1818-11-16 James Monroe\n\n\n\n1819-12-07 James Monroe\n\n\n\n\n\nCluster number 3\n\n\n1877-12-03 Rutherford B. Hayes\n\n\n\n1869-12-06 Ulysses S. Grant\n\n\n\n1903-12-07 Theodore Roosevelt\n\n\n\n1888-12-03 Grover Cleveland\n\n\n\n1830-12-06 Andrew Jackson\n\n\n\n\n\nCluster number 4\n\n\n1959-01-09 Dwight D. Eisenhower\n\n\n\n1950-01-04 Harry S. Truman\n\n\n\n1974-01-30 Richard Nixon\n\n\n\n1972-01-20 Richard Nixon\n\n\n\n1948-01-07 Harry S. Truman\n\n\n\n\n\nCluster number 5\n\n\n1965-01-04 Lyndon B. Johnson\n\n\n\n1995-01-24 William J. Clinton\n\n\n\n1968-01-17 Lyndon B. Johnson\n\n\n\n1971-01-22 Richard Nixon\n\n\n\n1978-01-19 Jimmy Carter\n\n\n\n\n\nCluster number 6\n\n\n1936-01-03 Franklin D. Roosevelt\n\n\n\n1945-01-06 Franklin D. Roosevelt\n\n\n\n1944-01-11 Franklin D. Roosevelt\n\n\n\n1956-01-05 Dwight D. Eisenhower\n\n\n\n1973-02-15 Richard Nixon\n\n\n\n\n\nCluster number 7\n\n\n1973-03-08 Richard Nixon\n\n\n\n1937-01-06 Franklin D. Roosevelt\n\n\n\n1914-12-08 Woodrow Wilson\n\n\n\n1944-01-11 Franklin D. Roosevelt\n\n\n\n1945-01-06 Franklin D. Roosevelt\n\n\n\n\n\nCluster number 8\n\n\n1927-12-06 Calvin Coolidge\n\n\n\n1906-12-03 Theodore Roosevelt\n\n\n\n1907-12-03 Theodore Roosevelt\n\n\n\n1905-12-05 Theodore Roosevelt\n\n\n\n1904-12-06 Theodore Roosevelt\n\n\n\n\n\nCluster number 9\n\n\n1813-12-07 James Madison\n\n\n\n1802-12-15 Thomas Jefferson\n\n\n\n1812-11-04 James Madison\n\n\n\n1887-12-06 Grover Cleveland\n\n\n\n1790-01-08 George Washington\n\n\n\n"
    }
   ],
   "source": [
    "for index, cluster_row in enumerate(closest):\n",
    "    print('\\n\\nCluster number ' + str(index) + '\\n\\n')\n",
    "    for col in cluster_row:\n",
    "        print(dates[col], president[col])\n",
    "        print('\\n\\n')"
   ]
  },
  {
   "cell_type": "code",
   "execution_count": 87,
   "metadata": {},
   "outputs": [
    {
     "name": "stdout",
     "output_type": "stream",
     "text": "l\n"
    }
   ],
   "source": [
    "print(sum_lex[0])"
   ]
  },
  {
   "cell_type": "code",
   "execution_count": 85,
   "metadata": {},
   "outputs": [],
   "source": [
    "lookup = []\n",
    "\n",
    "with open(path) as data_file:\n",
    "    data = data_file.read()\n",
    "    data_content = json.loads(data)\n",
    "    transcripts = [line['transcript'] for line in data_content]\n",
    "    dates = [line['date'] for line in data_content]\n",
    "    presidents = [line['president'] for line in data_content]\n",
    "    # text = [line[te=] for line in data_content]\n",
    "    for date, president, cluster_pos, summed, speech in zip(dates, presidents, tfs_reduced, sum_lex, transcripts):\n",
    "        lookup.append({\n",
    "            \"Date\": date,\n",
    "            \"President\": president,\n",
    "            \"Cluster_Pos\": cluster_pos.tolist(),\n",
    "            \"Summmary\": summed,\n",
    "            \"Speech\": speech\n",
    "        })"
   ]
  },
  {
   "cell_type": "code",
   "execution_count": 86,
   "metadata": {},
   "outputs": [],
   "source": [
    "with open('sotu_tfidif_sum.json', 'w') as outfile:\n",
    "    json.dump(lookup, outfile)"
   ]
  },
  {
   "cell_type": "code",
   "execution_count": null,
   "metadata": {},
   "outputs": [],
   "source": []
  }
 ]
}
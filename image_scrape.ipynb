{
 "nbformat": 4,
 "nbformat_minor": 2,
 "metadata": {
  "language_info": {
   "name": "python",
   "codemirror_mode": {
    "name": "ipython",
    "version": 3
   },
   "version": "3.7.5"
  },
  "orig_nbformat": 2,
  "file_extension": ".py",
  "mimetype": "text/x-python",
  "name": "python",
  "npconvert_exporter": "python",
  "pygments_lexer": "ipython3",
  "version": 3
 },
 "cells": [
  {
   "cell_type": "code",
   "execution_count": 171,
   "metadata": {},
   "outputs": [],
   "source": [
    "from requests_html import HTMLSession\n",
    "import pandas as pd"
   ]
  },
  {
   "cell_type": "code",
   "execution_count": 196,
   "metadata": {},
   "outputs": [],
   "source": [
    "session = HTMLSession()"
   ]
  },
  {
   "cell_type": "code",
   "execution_count": 197,
   "metadata": {},
   "outputs": [],
   "source": [
    "response = session.get('https://www.loc.gov/free-to-use/presidential-portraits')"
   ]
  },
  {
   "cell_type": "code",
   "execution_count": 198,
   "metadata": {},
   "outputs": [
    {
     "data": {
      "text/plain": "[<Element 'img' alt='Donald Trump 45th President of the United States (2017 - )' data-src='/static/portals/free-to-use/public-domain/presidential-portraits/45-trump.jpg' src='/static/portals/free-to-use/public-domain/presidential-portraits/45-trump.jpg'>,\n <Element 'img' alt='Barack Obama 44th President of the United States (2009 - 2017)' data-src='/static/portals/free-to-use/public-domain/presidential-portraits/44-obama.jpg' src='/static/portals/free-to-use/public-domain/presidential-portraits/44-obama.jpg'>,\n <Element 'img' alt='George W. Bush 43rd President of the United States (2001-2009)' data-src='/static/portals/free-to-use/public-domain/presidential-portraits/43-bush.jpg' src='/static/portals/free-to-use/public-domain/presidential-portraits/43-bush.jpg'>,\n <Element 'img' alt='William Jefferson Clinton, 42nd President of the United States (1993-2001)' data-src='/static/portals/free-to-use/public-domain/presidential-portraits/42-clinton.jpg' src='/static/portals/free-to-use/public-domain/presidential-portraits/42-clinton.jpg'>,\n <Element 'img' alt='George H.W. Bush, 41st President of the United States (1989-1993)' data-src='/static/portals/free-to-use/public-domain/presidential-portraits/41-bush.jpg' src='/static/portals/free-to-use/public-domain/presidential-portraits/41-bush.jpg'>,\n <Element 'img' alt='Ronald Reagan, 40th President of the United States (1981-1989)' data-src='/static/portals/free-to-use/public-domain/presidential-portraits/40-reagan.jpg' src='/static/portals/free-to-use/public-domain/presidential-portraits/40-reagan.jpg'>,\n <Element 'img' alt='James Earl Carter, Jr., 39th President of the United States (1977-1981)' data-src='/static/portals/free-to-use/public-domain/presidential-portraits/39-carter.jpg' src='/static/portals/free-to-use/public-domain/presidential-portraits/39-carter.jpg'>,\n <Element 'img' alt='Gerald Ford, 38th President of the United States (1974-1977)' data-src='/static/portals/free-to-use/public-domain/presidential-portraits/38-ford.jpg' src='/static/portals/free-to-use/public-domain/presidential-portraits/38-ford.jpg'>,\n <Element 'img' alt='Richard M. Nixon, 37th President of the United States (1969-1974)' data-src='/static/portals/free-to-use/public-domain/presidential-portraits/37-nixon.jpg' src='/static/portals/free-to-use/public-domain/presidential-portraits/37-nixon.jpg'>,\n <Element 'img' alt='Lyndon B. Johnson, 36th president of the United States (1963-1969)' data-src='/static/portals/free-to-use/public-domain/presidential-portraits/36-johnson.jpg' src='/static/portals/free-to-use/public-domain/presidential-portraits/36-johnson.jpg'>,\n <Element 'img' alt='John F. Kennedy, 35th president of the United States (1961-1963)' data-src='/static/portals/free-to-use/public-domain/presidential-portraits/35-kennedy.jpg' src='/static/portals/free-to-use/public-domain/presidential-portraits/35-kennedy.jpg'>,\n <Element 'img' alt='Dwight D. Eisenhower, 34th President of the United States (1953-1961)' data-src='/static/portals/free-to-use/public-domain/presidential-portraits/34-eisenhower.jpg' src='/static/portals/free-to-use/public-domain/presidential-portraits/34-eisenhower.jpg'>,\n <Element 'img' alt='Harry S. Truman, 33rd President of the United States (1945-1953)' data-src='/static/portals/free-to-use/public-domain/presidential-portraits/33-truman.jpg' src='/static/portals/free-to-use/public-domain/presidential-portraits/33-truman.jpg'>,\n <Element 'img' alt='Franklin D. Roosevelt, 32nd President of the United States (1933-1945)' data-src='/static/portals/free-to-use/public-domain/presidential-portraits/32-roosevelt.jpg' src='/static/portals/free-to-use/public-domain/presidential-portraits/32-roosevelt.jpg'>,\n <Element 'img' alt='Herbert Hoover, 31st President of the United States (1929-1933)' data-src='/static/portals/free-to-use/public-domain/presidential-portraits/31-hoover.jpg' src='/static/portals/free-to-use/public-domain/presidential-portraits/31-hoover.jpg'>,\n <Element 'img' alt='Calvin Coolidge, 30th President of the United States (1923-1929)' data-src='/static/portals/free-to-use/public-domain/presidential-portraits/30-coolidge.jpg' src='/static/portals/free-to-use/public-domain/presidential-portraits/30-coolidge.jpg'>,\n <Element 'img' alt='Warren G. Harding, 29th President of the United States (1921-1923)' data-src='/static/portals/free-to-use/public-domain/presidential-portraits/29-harding.jpg' src='/static/portals/free-to-use/public-domain/presidential-portraits/29-harding.jpg'>,\n <Element 'img' alt='Woodrow Wilson, 28th President of the United States (1913-1921)' data-src='/static/portals/free-to-use/public-domain/presidential-portraits/28-wilson.jpg' src='/static/portals/free-to-use/public-domain/presidential-portraits/28-wilson.jpg'>,\n <Element 'img' alt='William Howard Taft, 27th President of the United States (1909-1913)' data-src='/static/portals/free-to-use/public-domain/presidential-portraits/27-taft.jpg' src='/static/portals/free-to-use/public-domain/presidential-portraits/27-taft.jpg'>,\n <Element 'img' alt='Theodore Roosevelt, 26th President of the United States (1901-1909)' data-src='/static/portals/free-to-use/public-domain/presidential-portraits/26-roosevelt.jpg' src='/static/portals/free-to-use/public-domain/presidential-portraits/26-roosevelt.jpg'>,\n <Element 'img' alt='William McKinley, 25th President of the United States (1897-1901)' data-src='/static/portals/free-to-use/public-domain/presidential-portraits/25-mckinley.jpg' src='/static/portals/free-to-use/public-domain/presidential-portraits/25-mckinley.jpg'>,\n <Element 'img' alt='Benjamin Harrison, 23rd President of the United States (1889-1893)' data-src='/static/portals/free-to-use/public-domain/presidential-portraits/23-harrison.jpg' src='/static/portals/free-to-use/public-domain/presidential-portraits/23-harrison.jpg'>,\n <Element 'img' alt='Grover Cleveland, 22nd and 24th President of the United States (1885-1889 and 1893-1897)' data-src='/static/portals/free-to-use/public-domain/presidential-portraits/22-24-cleveland.jpg' src='/static/portals/free-to-use/public-domain/presidential-portraits/22-24-cleveland.jpg'>,\n <Element 'img' alt='Chester A. Arthur, 21st President of the United States (1881-1885)' data-src='/static/portals/free-to-use/public-domain/presidential-portraits/21-arthur.jpg' src='/static/portals/free-to-use/public-domain/presidential-portraits/21-arthur.jpg'>,\n <Element 'img' alt='James Garfield, 20th President of the United States (1881)' data-src='/static/portals/free-to-use/public-domain/presidential-portraits/20-garfield.jpg' src='/static/portals/free-to-use/public-domain/presidential-portraits/20-garfield.jpg'>,\n <Element 'img' alt='Rutherford B. Hayes, 19th President of the United States (1877-1881)' data-src='/static/portals/free-to-use/public-domain/presidential-portraits/19-hayes.jpg' src='/static/portals/free-to-use/public-domain/presidential-portraits/19-hayes.jpg'>,\n <Element 'img' alt='Ulysses S. Grant, 18th President of the United States (1869-1877)' data-src='/static/portals/free-to-use/public-domain/presidential-portraits/18-grant.jpg' src='/static/portals/free-to-use/public-domain/presidential-portraits/18-grant.jpg'>,\n <Element 'img' alt='Andrew Johnson, 17th President of the United States (1865-1869)' data-src='/static/portals/free-to-use/public-domain/presidential-portraits/17-johnson.jpg' src='/static/portals/free-to-use/public-domain/presidential-portraits/17-johnson.jpg'>,\n <Element 'img' alt='Abraham Lincoln, 16th President of the United States (1861-1865)' data-src='/static/portals/free-to-use/public-domain/presidential-portraits/16-lincoln.jpg' src='/static/portals/free-to-use/public-domain/presidential-portraits/16-lincoln.jpg'>,\n <Element 'img' alt='James Buchanan, 15th President of the United States (1857-1861)' data-src='/static/portals/free-to-use/public-domain/presidential-portraits/15-buchanan.jpg' src='/static/portals/free-to-use/public-domain/presidential-portraits/15-buchanan.jpg'>,\n <Element 'img' alt='Franklin Pierce, 14th President of the United States (1853-1857)' data-src='/static/portals/free-to-use/public-domain/presidential-portraits/14-pierce.jpg' src='/static/portals/free-to-use/public-domain/presidential-portraits/14-pierce.jpg'>,\n <Element 'img' alt='Millard Fillmore, 13th President of the United States (1850-1853)' data-src='/static/portals/free-to-use/public-domain/presidential-portraits/13-fillmore.jpg' src='/static/portals/free-to-use/public-domain/presidential-portraits/13-fillmore.jpg'>,\n <Element 'img' alt='Zachary Taylor, 12th President of the United States (1849-1850)' data-src='/static/portals/free-to-use/public-domain/presidential-portraits/12-taylor.jpg' src='/static/portals/free-to-use/public-domain/presidential-portraits/12-taylor.jpg'>,\n <Element 'img' alt='James K. Polk, 11th President of the United States (1845-1849)' data-src='/static/portals/free-to-use/public-domain/presidential-portraits/11-polk.jpg' src='/static/portals/free-to-use/public-domain/presidential-portraits/11-polk.jpg'>,\n <Element 'img' alt='John Tyler, tenth President of the United States (1841-1845)' data-src='/static/portals/free-to-use/public-domain/presidential-portraits/10-tyler.jpg' src='/static/portals/free-to-use/public-domain/presidential-portraits/10-tyler.jpg'>,\n <Element 'img' alt='William Henry Harrison, ninth President of the United States (1841)' data-src='/static/portals/free-to-use/public-domain/presidential-portraits/09-harrison.jpg' src='/static/portals/free-to-use/public-domain/presidential-portraits/09-harrison.jpg'>,\n <Element 'img' alt='Martin Van Buren, eighth President of the United States (1837-1841)' data-src='/static/portals/free-to-use/public-domain/presidential-portraits/08-van-buren.jpg' src='/static/portals/free-to-use/public-domain/presidential-portraits/08-van-buren.jpg'>,\n <Element 'img' alt='Andrew Jackson, seventh President of the United States (1829-1837)' data-src='/static/portals/free-to-use/public-domain/presidential-portraits/07-jackson.jpg' src='/static/portals/free-to-use/public-domain/presidential-portraits/07-jackson.jpg'>,\n <Element 'img' alt='John Quincy Adams, sixth President of the United States (1825-1829)' data-src='/static/portals/free-to-use/public-domain/presidential-portraits/06-adams.jpg' src='/static/portals/free-to-use/public-domain/presidential-portraits/06-adams.jpg'>,\n <Element 'img' alt='James Monroe, fifth President of the United States (1817-1825)' data-src='/static/portals/free-to-use/public-domain/presidential-portraits/05-monroe.jpg' src='/static/portals/free-to-use/public-domain/presidential-portraits/05-monroe.jpg'>,\n <Element 'img' alt='James Madison, fourth President of the United States (1809-1817)' data-src='/static/portals/free-to-use/public-domain/presidential-portraits/04-madison.jpg' src='/static/portals/free-to-use/public-domain/presidential-portraits/04-madison.jpg'>,\n <Element 'img' alt='Thomas Jefferson, third President of the United States (1801-1809)' data-src='/static/portals/free-to-use/public-domain/presidential-portraits/03-jefferson.jpg' src='/static/portals/free-to-use/public-domain/presidential-portraits/03-jefferson.jpg'>,\n <Element 'img' alt='John Adams, second President of the United States (1797-1801)' data-src='/static/portals/free-to-use/public-domain/presidential-portraits/02-adams.jpg' src='/static/portals/free-to-use/public-domain/presidential-portraits/02-adams.jpg'>,\n <Element 'img' alt='George Washington, first President of the United States (1789-1797)' data-src='/static/portals/free-to-use/public-domain/presidential-portraits/01-washington.jpg' src='/static/portals/free-to-use/public-domain/presidential-portraits/01-washington.jpg'>]"
     },
     "execution_count": 198,
     "metadata": {},
     "output_type": "execute_result"
    }
   ],
   "source": [
    "link_tags = response.html.find(\"figure a img\")\n",
    "\n",
    "link_tags"
   ]
  },
  {
   "cell_type": "code",
   "execution_count": 221,
   "metadata": {},
   "outputs": [
    {
     "data": {
      "text/plain": "['/static/portals/free-to-use/public-domain/presidential-portraits/45-trump.jpg',\n '/static/portals/free-to-use/public-domain/presidential-portraits/44-obama.jpg',\n '/static/portals/free-to-use/public-domain/presidential-portraits/43-bush.jpg',\n '/static/portals/free-to-use/public-domain/presidential-portraits/42-clinton.jpg',\n '/static/portals/free-to-use/public-domain/presidential-portraits/41-bush.jpg',\n '/static/portals/free-to-use/public-domain/presidential-portraits/40-reagan.jpg',\n '/static/portals/free-to-use/public-domain/presidential-portraits/39-carter.jpg',\n '/static/portals/free-to-use/public-domain/presidential-portraits/38-ford.jpg',\n '/static/portals/free-to-use/public-domain/presidential-portraits/37-nixon.jpg',\n '/static/portals/free-to-use/public-domain/presidential-portraits/36-johnson.jpg',\n '/static/portals/free-to-use/public-domain/presidential-portraits/35-kennedy.jpg',\n '/static/portals/free-to-use/public-domain/presidential-portraits/34-eisenhower.jpg',\n '/static/portals/free-to-use/public-domain/presidential-portraits/33-truman.jpg',\n '/static/portals/free-to-use/public-domain/presidential-portraits/32-roosevelt.jpg',\n '/static/portals/free-to-use/public-domain/presidential-portraits/31-hoover.jpg',\n '/static/portals/free-to-use/public-domain/presidential-portraits/30-coolidge.jpg',\n '/static/portals/free-to-use/public-domain/presidential-portraits/29-harding.jpg',\n '/static/portals/free-to-use/public-domain/presidential-portraits/28-wilson.jpg',\n '/static/portals/free-to-use/public-domain/presidential-portraits/27-taft.jpg',\n '/static/portals/free-to-use/public-domain/presidential-portraits/26-roosevelt.jpg',\n '/static/portals/free-to-use/public-domain/presidential-portraits/25-mckinley.jpg',\n '/static/portals/free-to-use/public-domain/presidential-portraits/23-harrison.jpg',\n '/static/portals/free-to-use/public-domain/presidential-portraits/22-24-cleveland.jpg',\n '/static/portals/free-to-use/public-domain/presidential-portraits/21-arthur.jpg',\n '/static/portals/free-to-use/public-domain/presidential-portraits/20-garfield.jpg',\n '/static/portals/free-to-use/public-domain/presidential-portraits/19-hayes.jpg',\n '/static/portals/free-to-use/public-domain/presidential-portraits/18-grant.jpg',\n '/static/portals/free-to-use/public-domain/presidential-portraits/17-johnson.jpg',\n '/static/portals/free-to-use/public-domain/presidential-portraits/16-lincoln.jpg',\n '/static/portals/free-to-use/public-domain/presidential-portraits/15-buchanan.jpg',\n '/static/portals/free-to-use/public-domain/presidential-portraits/14-pierce.jpg',\n '/static/portals/free-to-use/public-domain/presidential-portraits/13-fillmore.jpg',\n '/static/portals/free-to-use/public-domain/presidential-portraits/12-taylor.jpg',\n '/static/portals/free-to-use/public-domain/presidential-portraits/11-polk.jpg',\n '/static/portals/free-to-use/public-domain/presidential-portraits/10-tyler.jpg',\n '/static/portals/free-to-use/public-domain/presidential-portraits/09-harrison.jpg',\n '/static/portals/free-to-use/public-domain/presidential-portraits/08-van-buren.jpg',\n '/static/portals/free-to-use/public-domain/presidential-portraits/07-jackson.jpg',\n '/static/portals/free-to-use/public-domain/presidential-portraits/06-adams.jpg',\n '/static/portals/free-to-use/public-domain/presidential-portraits/05-monroe.jpg',\n '/static/portals/free-to-use/public-domain/presidential-portraits/04-madison.jpg',\n '/static/portals/free-to-use/public-domain/presidential-portraits/03-jefferson.jpg',\n '/static/portals/free-to-use/public-domain/presidential-portraits/02-adams.jpg',\n '/static/portals/free-to-use/public-domain/presidential-portraits/01-washington.jpg']"
     },
     "execution_count": 221,
     "metadata": {},
     "output_type": "execute_result"
    }
   ],
   "source": [
    "links = []\n",
    "\n",
    "for link in link_tags:\n",
    "    links.append(link.attrs.get('src'))\n",
    "    # links.append('alt')\n",
    "\n",
    "links"
   ]
  },
  {
   "cell_type": "code",
   "execution_count": 222,
   "metadata": {},
   "outputs": [
    {
     "data": {
      "text/html": "<div>\n<style scoped>\n    .dataframe tbody tr th:only-of-type {\n        vertical-align: middle;\n    }\n\n    .dataframe tbody tr th {\n        vertical-align: top;\n    }\n\n    .dataframe thead th {\n        text-align: right;\n    }\n</style>\n<table border=\"1\" class=\"dataframe\">\n  <thead>\n    <tr style=\"text-align: right;\">\n      <th></th>\n      <th>name</th>\n      <th>images</th>\n    </tr>\n  </thead>\n  <tbody>\n  </tbody>\n</table>\n</div>",
      "text/plain": "Empty DataFrame\nColumns: [name, images]\nIndex: []"
     },
     "execution_count": 222,
     "metadata": {},
     "output_type": "execute_result"
    }
   ],
   "source": [
    "presidents_df = pd.DataFrame(columns=['name', 'images'])\n",
    "presidents_df"
   ]
  },
  {
   "cell_type": "code",
   "execution_count": 223,
   "metadata": {},
   "outputs": [
    {
     "name": "stdout",
     "output_type": "stream",
     "text": "['https://www.loc.gov/static/portals/free-to-use/public-domain/presidential-portraits/45-trump.jpg']\n['https://www.loc.gov/static/portals/free-to-use/public-domain/presidential-portraits/44-obama.jpg']\n['https://www.loc.gov/static/portals/free-to-use/public-domain/presidential-portraits/43-bush.jpg']\n['https://www.loc.gov/static/portals/free-to-use/public-domain/presidential-portraits/42-clinton.jpg']\n['https://www.loc.gov/static/portals/free-to-use/public-domain/presidential-portraits/41-bush.jpg']\n['https://www.loc.gov/static/portals/free-to-use/public-domain/presidential-portraits/40-reagan.jpg']\n['https://www.loc.gov/static/portals/free-to-use/public-domain/presidential-portraits/39-carter.jpg']\n['https://www.loc.gov/static/portals/free-to-use/public-domain/presidential-portraits/38-ford.jpg']\n['https://www.loc.gov/static/portals/free-to-use/public-domain/presidential-portraits/37-nixon.jpg']\n['https://www.loc.gov/static/portals/free-to-use/public-domain/presidential-portraits/36-johnson.jpg']\n['https://www.loc.gov/static/portals/free-to-use/public-domain/presidential-portraits/35-kennedy.jpg']\n['https://www.loc.gov/static/portals/free-to-use/public-domain/presidential-portraits/34-eisenhower.jpg']\n['https://www.loc.gov/static/portals/free-to-use/public-domain/presidential-portraits/33-truman.jpg']\n['https://www.loc.gov/static/portals/free-to-use/public-domain/presidential-portraits/32-roosevelt.jpg']\n['https://www.loc.gov/static/portals/free-to-use/public-domain/presidential-portraits/31-hoover.jpg']\n['https://www.loc.gov/static/portals/free-to-use/public-domain/presidential-portraits/30-coolidge.jpg']\n['https://www.loc.gov/static/portals/free-to-use/public-domain/presidential-portraits/29-harding.jpg']\n['https://www.loc.gov/static/portals/free-to-use/public-domain/presidential-portraits/28-wilson.jpg']\n['https://www.loc.gov/static/portals/free-to-use/public-domain/presidential-portraits/27-taft.jpg']\n['https://www.loc.gov/static/portals/free-to-use/public-domain/presidential-portraits/26-roosevelt.jpg']\n['https://www.loc.gov/static/portals/free-to-use/public-domain/presidential-portraits/25-mckinley.jpg']\n['https://www.loc.gov/static/portals/free-to-use/public-domain/presidential-portraits/23-harrison.jpg']\n['https://www.loc.gov/static/portals/free-to-use/public-domain/presidential-portraits/22-24-cleveland.jpg']\n['https://www.loc.gov/static/portals/free-to-use/public-domain/presidential-portraits/21-arthur.jpg']\n['https://www.loc.gov/static/portals/free-to-use/public-domain/presidential-portraits/20-garfield.jpg']\n['https://www.loc.gov/static/portals/free-to-use/public-domain/presidential-portraits/19-hayes.jpg']\n['https://www.loc.gov/static/portals/free-to-use/public-domain/presidential-portraits/18-grant.jpg']\n['https://www.loc.gov/static/portals/free-to-use/public-domain/presidential-portraits/17-johnson.jpg']\n['https://www.loc.gov/static/portals/free-to-use/public-domain/presidential-portraits/16-lincoln.jpg']\n['https://www.loc.gov/static/portals/free-to-use/public-domain/presidential-portraits/15-buchanan.jpg']\n['https://www.loc.gov/static/portals/free-to-use/public-domain/presidential-portraits/14-pierce.jpg']\n['https://www.loc.gov/static/portals/free-to-use/public-domain/presidential-portraits/13-fillmore.jpg']\n['https://www.loc.gov/static/portals/free-to-use/public-domain/presidential-portraits/12-taylor.jpg']\n['https://www.loc.gov/static/portals/free-to-use/public-domain/presidential-portraits/11-polk.jpg']\n['https://www.loc.gov/static/portals/free-to-use/public-domain/presidential-portraits/10-tyler.jpg']\n['https://www.loc.gov/static/portals/free-to-use/public-domain/presidential-portraits/09-harrison.jpg']\n['https://www.loc.gov/static/portals/free-to-use/public-domain/presidential-portraits/08-van-buren.jpg']\n['https://www.loc.gov/static/portals/free-to-use/public-domain/presidential-portraits/07-jackson.jpg']\n['https://www.loc.gov/static/portals/free-to-use/public-domain/presidential-portraits/06-adams.jpg']\n['https://www.loc.gov/static/portals/free-to-use/public-domain/presidential-portraits/05-monroe.jpg']\n['https://www.loc.gov/static/portals/free-to-use/public-domain/presidential-portraits/04-madison.jpg']\n['https://www.loc.gov/static/portals/free-to-use/public-domain/presidential-portraits/03-jefferson.jpg']\n['https://www.loc.gov/static/portals/free-to-use/public-domain/presidential-portraits/02-adams.jpg']\n['https://www.loc.gov/static/portals/free-to-use/public-domain/presidential-portraits/01-washington.jpg']\n"
    }
   ],
   "source": [
    "\n",
    "\n",
    "# Next we loop through our links and grab the HTML for each link\n",
    "\n",
    "for link in links:\n",
    "    response = session.get('https://www.loc.gov' + link)\n",
    "    \n",
    "    # Web scraping often breaks due to small errors, so it can\n",
    "    # be easiest to wrap our code in a try block and grab the errors\n",
    "    try: \n",
    "    \n",
    "        # page_id = link.split('/')[-1].replace('.html', '')\n",
    "\n",
    "        # images = response[link]\n",
    "        # images = img.attrs.get('src') for img in response.html.find('.slide img')\n",
    "\n",
    "        name = link.split('/')[-1]\n",
    "        images = ['https://www.loc.gov' + link]\n",
    "        presidents_df = presidents_df.append({\n",
    "            'images': images,\n",
    "            'name': name}, ignore_index=True)\n",
    "        \n",
    "        print(images)\n",
    "    \n",
    "\n",
    "    except Exception as e:\n",
    "        # Print the error\n",
    "        print(e)\n",
    "        # and print the associated link\n",
    "        print('failed on ' + link)"
   ]
  },
  {
   "cell_type": "code",
   "execution_count": 224,
   "metadata": {},
   "outputs": [
    {
     "data": {
      "text/html": "<div>\n<style scoped>\n    .dataframe tbody tr th:only-of-type {\n        vertical-align: middle;\n    }\n\n    .dataframe tbody tr th {\n        vertical-align: top;\n    }\n\n    .dataframe thead th {\n        text-align: right;\n    }\n</style>\n<table border=\"1\" class=\"dataframe\">\n  <thead>\n    <tr style=\"text-align: right;\">\n      <th></th>\n      <th>name</th>\n      <th>images</th>\n    </tr>\n  </thead>\n  <tbody>\n    <tr>\n      <td>0</td>\n      <td>45-trump.jpg</td>\n      <td>[https://www.loc.gov/static/portals/free-to-us...</td>\n    </tr>\n    <tr>\n      <td>1</td>\n      <td>44-obama.jpg</td>\n      <td>[https://www.loc.gov/static/portals/free-to-us...</td>\n    </tr>\n    <tr>\n      <td>2</td>\n      <td>43-bush.jpg</td>\n      <td>[https://www.loc.gov/static/portals/free-to-us...</td>\n    </tr>\n    <tr>\n      <td>3</td>\n      <td>42-clinton.jpg</td>\n      <td>[https://www.loc.gov/static/portals/free-to-us...</td>\n    </tr>\n    <tr>\n      <td>4</td>\n      <td>41-bush.jpg</td>\n      <td>[https://www.loc.gov/static/portals/free-to-us...</td>\n    </tr>\n    <tr>\n      <td>5</td>\n      <td>40-reagan.jpg</td>\n      <td>[https://www.loc.gov/static/portals/free-to-us...</td>\n    </tr>\n    <tr>\n      <td>6</td>\n      <td>39-carter.jpg</td>\n      <td>[https://www.loc.gov/static/portals/free-to-us...</td>\n    </tr>\n    <tr>\n      <td>7</td>\n      <td>38-ford.jpg</td>\n      <td>[https://www.loc.gov/static/portals/free-to-us...</td>\n    </tr>\n    <tr>\n      <td>8</td>\n      <td>37-nixon.jpg</td>\n      <td>[https://www.loc.gov/static/portals/free-to-us...</td>\n    </tr>\n    <tr>\n      <td>9</td>\n      <td>36-johnson.jpg</td>\n      <td>[https://www.loc.gov/static/portals/free-to-us...</td>\n    </tr>\n    <tr>\n      <td>10</td>\n      <td>35-kennedy.jpg</td>\n      <td>[https://www.loc.gov/static/portals/free-to-us...</td>\n    </tr>\n    <tr>\n      <td>11</td>\n      <td>34-eisenhower.jpg</td>\n      <td>[https://www.loc.gov/static/portals/free-to-us...</td>\n    </tr>\n    <tr>\n      <td>12</td>\n      <td>33-truman.jpg</td>\n      <td>[https://www.loc.gov/static/portals/free-to-us...</td>\n    </tr>\n    <tr>\n      <td>13</td>\n      <td>32-roosevelt.jpg</td>\n      <td>[https://www.loc.gov/static/portals/free-to-us...</td>\n    </tr>\n    <tr>\n      <td>14</td>\n      <td>31-hoover.jpg</td>\n      <td>[https://www.loc.gov/static/portals/free-to-us...</td>\n    </tr>\n    <tr>\n      <td>15</td>\n      <td>30-coolidge.jpg</td>\n      <td>[https://www.loc.gov/static/portals/free-to-us...</td>\n    </tr>\n    <tr>\n      <td>16</td>\n      <td>29-harding.jpg</td>\n      <td>[https://www.loc.gov/static/portals/free-to-us...</td>\n    </tr>\n    <tr>\n      <td>17</td>\n      <td>28-wilson.jpg</td>\n      <td>[https://www.loc.gov/static/portals/free-to-us...</td>\n    </tr>\n    <tr>\n      <td>18</td>\n      <td>27-taft.jpg</td>\n      <td>[https://www.loc.gov/static/portals/free-to-us...</td>\n    </tr>\n    <tr>\n      <td>19</td>\n      <td>26-roosevelt.jpg</td>\n      <td>[https://www.loc.gov/static/portals/free-to-us...</td>\n    </tr>\n    <tr>\n      <td>20</td>\n      <td>25-mckinley.jpg</td>\n      <td>[https://www.loc.gov/static/portals/free-to-us...</td>\n    </tr>\n    <tr>\n      <td>21</td>\n      <td>23-harrison.jpg</td>\n      <td>[https://www.loc.gov/static/portals/free-to-us...</td>\n    </tr>\n    <tr>\n      <td>22</td>\n      <td>22-24-cleveland.jpg</td>\n      <td>[https://www.loc.gov/static/portals/free-to-us...</td>\n    </tr>\n    <tr>\n      <td>23</td>\n      <td>21-arthur.jpg</td>\n      <td>[https://www.loc.gov/static/portals/free-to-us...</td>\n    </tr>\n    <tr>\n      <td>24</td>\n      <td>20-garfield.jpg</td>\n      <td>[https://www.loc.gov/static/portals/free-to-us...</td>\n    </tr>\n    <tr>\n      <td>25</td>\n      <td>19-hayes.jpg</td>\n      <td>[https://www.loc.gov/static/portals/free-to-us...</td>\n    </tr>\n    <tr>\n      <td>26</td>\n      <td>18-grant.jpg</td>\n      <td>[https://www.loc.gov/static/portals/free-to-us...</td>\n    </tr>\n    <tr>\n      <td>27</td>\n      <td>17-johnson.jpg</td>\n      <td>[https://www.loc.gov/static/portals/free-to-us...</td>\n    </tr>\n    <tr>\n      <td>28</td>\n      <td>16-lincoln.jpg</td>\n      <td>[https://www.loc.gov/static/portals/free-to-us...</td>\n    </tr>\n    <tr>\n      <td>29</td>\n      <td>15-buchanan.jpg</td>\n      <td>[https://www.loc.gov/static/portals/free-to-us...</td>\n    </tr>\n    <tr>\n      <td>30</td>\n      <td>14-pierce.jpg</td>\n      <td>[https://www.loc.gov/static/portals/free-to-us...</td>\n    </tr>\n    <tr>\n      <td>31</td>\n      <td>13-fillmore.jpg</td>\n      <td>[https://www.loc.gov/static/portals/free-to-us...</td>\n    </tr>\n    <tr>\n      <td>32</td>\n      <td>12-taylor.jpg</td>\n      <td>[https://www.loc.gov/static/portals/free-to-us...</td>\n    </tr>\n    <tr>\n      <td>33</td>\n      <td>11-polk.jpg</td>\n      <td>[https://www.loc.gov/static/portals/free-to-us...</td>\n    </tr>\n    <tr>\n      <td>34</td>\n      <td>10-tyler.jpg</td>\n      <td>[https://www.loc.gov/static/portals/free-to-us...</td>\n    </tr>\n    <tr>\n      <td>35</td>\n      <td>09-harrison.jpg</td>\n      <td>[https://www.loc.gov/static/portals/free-to-us...</td>\n    </tr>\n    <tr>\n      <td>36</td>\n      <td>08-van-buren.jpg</td>\n      <td>[https://www.loc.gov/static/portals/free-to-us...</td>\n    </tr>\n    <tr>\n      <td>37</td>\n      <td>07-jackson.jpg</td>\n      <td>[https://www.loc.gov/static/portals/free-to-us...</td>\n    </tr>\n    <tr>\n      <td>38</td>\n      <td>06-adams.jpg</td>\n      <td>[https://www.loc.gov/static/portals/free-to-us...</td>\n    </tr>\n    <tr>\n      <td>39</td>\n      <td>05-monroe.jpg</td>\n      <td>[https://www.loc.gov/static/portals/free-to-us...</td>\n    </tr>\n    <tr>\n      <td>40</td>\n      <td>04-madison.jpg</td>\n      <td>[https://www.loc.gov/static/portals/free-to-us...</td>\n    </tr>\n    <tr>\n      <td>41</td>\n      <td>03-jefferson.jpg</td>\n      <td>[https://www.loc.gov/static/portals/free-to-us...</td>\n    </tr>\n    <tr>\n      <td>42</td>\n      <td>02-adams.jpg</td>\n      <td>[https://www.loc.gov/static/portals/free-to-us...</td>\n    </tr>\n    <tr>\n      <td>43</td>\n      <td>01-washington.jpg</td>\n      <td>[https://www.loc.gov/static/portals/free-to-us...</td>\n    </tr>\n  </tbody>\n</table>\n</div>",
      "text/plain": "                   name                                             images\n0          45-trump.jpg  [https://www.loc.gov/static/portals/free-to-us...\n1          44-obama.jpg  [https://www.loc.gov/static/portals/free-to-us...\n2           43-bush.jpg  [https://www.loc.gov/static/portals/free-to-us...\n3        42-clinton.jpg  [https://www.loc.gov/static/portals/free-to-us...\n4           41-bush.jpg  [https://www.loc.gov/static/portals/free-to-us...\n5         40-reagan.jpg  [https://www.loc.gov/static/portals/free-to-us...\n6         39-carter.jpg  [https://www.loc.gov/static/portals/free-to-us...\n7           38-ford.jpg  [https://www.loc.gov/static/portals/free-to-us...\n8          37-nixon.jpg  [https://www.loc.gov/static/portals/free-to-us...\n9        36-johnson.jpg  [https://www.loc.gov/static/portals/free-to-us...\n10       35-kennedy.jpg  [https://www.loc.gov/static/portals/free-to-us...\n11    34-eisenhower.jpg  [https://www.loc.gov/static/portals/free-to-us...\n12        33-truman.jpg  [https://www.loc.gov/static/portals/free-to-us...\n13     32-roosevelt.jpg  [https://www.loc.gov/static/portals/free-to-us...\n14        31-hoover.jpg  [https://www.loc.gov/static/portals/free-to-us...\n15      30-coolidge.jpg  [https://www.loc.gov/static/portals/free-to-us...\n16       29-harding.jpg  [https://www.loc.gov/static/portals/free-to-us...\n17        28-wilson.jpg  [https://www.loc.gov/static/portals/free-to-us...\n18          27-taft.jpg  [https://www.loc.gov/static/portals/free-to-us...\n19     26-roosevelt.jpg  [https://www.loc.gov/static/portals/free-to-us...\n20      25-mckinley.jpg  [https://www.loc.gov/static/portals/free-to-us...\n21      23-harrison.jpg  [https://www.loc.gov/static/portals/free-to-us...\n22  22-24-cleveland.jpg  [https://www.loc.gov/static/portals/free-to-us...\n23        21-arthur.jpg  [https://www.loc.gov/static/portals/free-to-us...\n24      20-garfield.jpg  [https://www.loc.gov/static/portals/free-to-us...\n25         19-hayes.jpg  [https://www.loc.gov/static/portals/free-to-us...\n26         18-grant.jpg  [https://www.loc.gov/static/portals/free-to-us...\n27       17-johnson.jpg  [https://www.loc.gov/static/portals/free-to-us...\n28       16-lincoln.jpg  [https://www.loc.gov/static/portals/free-to-us...\n29      15-buchanan.jpg  [https://www.loc.gov/static/portals/free-to-us...\n30        14-pierce.jpg  [https://www.loc.gov/static/portals/free-to-us...\n31      13-fillmore.jpg  [https://www.loc.gov/static/portals/free-to-us...\n32        12-taylor.jpg  [https://www.loc.gov/static/portals/free-to-us...\n33          11-polk.jpg  [https://www.loc.gov/static/portals/free-to-us...\n34         10-tyler.jpg  [https://www.loc.gov/static/portals/free-to-us...\n35      09-harrison.jpg  [https://www.loc.gov/static/portals/free-to-us...\n36     08-van-buren.jpg  [https://www.loc.gov/static/portals/free-to-us...\n37       07-jackson.jpg  [https://www.loc.gov/static/portals/free-to-us...\n38         06-adams.jpg  [https://www.loc.gov/static/portals/free-to-us...\n39        05-monroe.jpg  [https://www.loc.gov/static/portals/free-to-us...\n40       04-madison.jpg  [https://www.loc.gov/static/portals/free-to-us...\n41     03-jefferson.jpg  [https://www.loc.gov/static/portals/free-to-us...\n42         02-adams.jpg  [https://www.loc.gov/static/portals/free-to-us...\n43    01-washington.jpg  [https://www.loc.gov/static/portals/free-to-us..."
     },
     "execution_count": 224,
     "metadata": {},
     "output_type": "execute_result"
    }
   ],
   "source": [
    "presidents_df"
   ]
  },
  {
   "cell_type": "code",
   "execution_count": 242,
   "metadata": {},
   "outputs": [
    {
     "name": "stdout",
     "output_type": "stream",
     "text": "https://www.loc.gov/static/portals/free-to-use/public-domain/presidential-portraits/45-trump.jpg\n45-trump.jpg\nhttps://www.loc.gov/static/portals/free-to-use/public-domain/presidential-portraits/44-obama.jpg\n44-obama.jpg\nhttps://www.loc.gov/static/portals/free-to-use/public-domain/presidential-portraits/43-bush.jpg\n43-bush.jpg\nhttps://www.loc.gov/static/portals/free-to-use/public-domain/presidential-portraits/42-clinton.jpg\n42-clinton.jpg\nhttps://www.loc.gov/static/portals/free-to-use/public-domain/presidential-portraits/41-bush.jpg\n41-bush.jpg\nhttps://www.loc.gov/static/portals/free-to-use/public-domain/presidential-portraits/40-reagan.jpg\n40-reagan.jpg\nhttps://www.loc.gov/static/portals/free-to-use/public-domain/presidential-portraits/39-carter.jpg\n39-carter.jpg\nhttps://www.loc.gov/static/portals/free-to-use/public-domain/presidential-portraits/38-ford.jpg\n38-ford.jpg\nhttps://www.loc.gov/static/portals/free-to-use/public-domain/presidential-portraits/37-nixon.jpg\n37-nixon.jpg\nhttps://www.loc.gov/static/portals/free-to-use/public-domain/presidential-portraits/36-johnson.jpg\n36-johnson.jpg\nhttps://www.loc.gov/static/portals/free-to-use/public-domain/presidential-portraits/35-kennedy.jpg\n35-kennedy.jpg\nhttps://www.loc.gov/static/portals/free-to-use/public-domain/presidential-portraits/34-eisenhower.jpg\n34-eisenhower.jpg\nhttps://www.loc.gov/static/portals/free-to-use/public-domain/presidential-portraits/33-truman.jpg\n33-truman.jpg\nhttps://www.loc.gov/static/portals/free-to-use/public-domain/presidential-portraits/32-roosevelt.jpg\n32-roosevelt.jpg\nhttps://www.loc.gov/static/portals/free-to-use/public-domain/presidential-portraits/31-hoover.jpg\n31-hoover.jpg\nhttps://www.loc.gov/static/portals/free-to-use/public-domain/presidential-portraits/30-coolidge.jpg\n30-coolidge.jpg\nhttps://www.loc.gov/static/portals/free-to-use/public-domain/presidential-portraits/29-harding.jpg\n29-harding.jpg\nhttps://www.loc.gov/static/portals/free-to-use/public-domain/presidential-portraits/28-wilson.jpg\n28-wilson.jpg\nhttps://www.loc.gov/static/portals/free-to-use/public-domain/presidential-portraits/27-taft.jpg\n27-taft.jpg\nhttps://www.loc.gov/static/portals/free-to-use/public-domain/presidential-portraits/26-roosevelt.jpg\n26-roosevelt.jpg\nhttps://www.loc.gov/static/portals/free-to-use/public-domain/presidential-portraits/25-mckinley.jpg\n25-mckinley.jpg\nhttps://www.loc.gov/static/portals/free-to-use/public-domain/presidential-portraits/23-harrison.jpg\n23-harrison.jpg\nhttps://www.loc.gov/static/portals/free-to-use/public-domain/presidential-portraits/22-24-cleveland.jpg\n22-24-cleveland.jpg\nhttps://www.loc.gov/static/portals/free-to-use/public-domain/presidential-portraits/21-arthur.jpg\n21-arthur.jpg\nhttps://www.loc.gov/static/portals/free-to-use/public-domain/presidential-portraits/20-garfield.jpg\n20-garfield.jpg\nhttps://www.loc.gov/static/portals/free-to-use/public-domain/presidential-portraits/19-hayes.jpg\n19-hayes.jpg\nhttps://www.loc.gov/static/portals/free-to-use/public-domain/presidential-portraits/18-grant.jpg\n18-grant.jpg\nhttps://www.loc.gov/static/portals/free-to-use/public-domain/presidential-portraits/17-johnson.jpg\n17-johnson.jpg\nhttps://www.loc.gov/static/portals/free-to-use/public-domain/presidential-portraits/16-lincoln.jpg\n16-lincoln.jpg\nhttps://www.loc.gov/static/portals/free-to-use/public-domain/presidential-portraits/15-buchanan.jpg\n15-buchanan.jpg\nhttps://www.loc.gov/static/portals/free-to-use/public-domain/presidential-portraits/14-pierce.jpg\n14-pierce.jpg\nhttps://www.loc.gov/static/portals/free-to-use/public-domain/presidential-portraits/13-fillmore.jpg\n13-fillmore.jpg\nhttps://www.loc.gov/static/portals/free-to-use/public-domain/presidential-portraits/12-taylor.jpg\n12-taylor.jpg\nhttps://www.loc.gov/static/portals/free-to-use/public-domain/presidential-portraits/11-polk.jpg\n11-polk.jpg\nhttps://www.loc.gov/static/portals/free-to-use/public-domain/presidential-portraits/10-tyler.jpg\n10-tyler.jpg\nhttps://www.loc.gov/static/portals/free-to-use/public-domain/presidential-portraits/09-harrison.jpg\n09-harrison.jpg\nhttps://www.loc.gov/static/portals/free-to-use/public-domain/presidential-portraits/08-van-buren.jpg\n08-van-buren.jpg\nhttps://www.loc.gov/static/portals/free-to-use/public-domain/presidential-portraits/07-jackson.jpg\n07-jackson.jpg\nhttps://www.loc.gov/static/portals/free-to-use/public-domain/presidential-portraits/06-adams.jpg\n06-adams.jpg\nhttps://www.loc.gov/static/portals/free-to-use/public-domain/presidential-portraits/05-monroe.jpg\n05-monroe.jpg\nhttps://www.loc.gov/static/portals/free-to-use/public-domain/presidential-portraits/04-madison.jpg\n04-madison.jpg\nhttps://www.loc.gov/static/portals/free-to-use/public-domain/presidential-portraits/03-jefferson.jpg\n03-jefferson.jpg\nhttps://www.loc.gov/static/portals/free-to-use/public-domain/presidential-portraits/02-adams.jpg\n02-adams.jpg\nhttps://www.loc.gov/static/portals/free-to-use/public-domain/presidential-portraits/01-washington.jpg\n01-washington.jpg\n"
    }
   ],
   "source": [
    "import time\n",
    "# We can use urllib to download the image urls\n",
    "# into a folder names \"scraped_images\"\n",
    "\n",
    "import urllib.request\n",
    "\n",
    "opener = urllib.request.URLopener()\n",
    "opener.addheader('User-Agent', 'whatever')\n",
    "\n",
    "for index, row in presidents_df.iterrows():\n",
    "\n",
    "    for url in row['images']:\n",
    "        print(url)\n",
    "        file_name = url.split('/')[-1]\n",
    "        print(file_name)\n",
    "        # time.sleep(5)\n",
    "        filename, headers = opener.retrieve(url, file_name)\n",
    "        # urllib.request.urlretrieve(url, 'scraped_images/' + file_name)\n"
   ]
  },
  {
   "cell_type": "code",
   "execution_count": null,
   "metadata": {},
   "outputs": [],
   "source": []
  }
 ]
}